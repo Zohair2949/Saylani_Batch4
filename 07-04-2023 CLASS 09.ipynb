{
 "cells": [
  {
   "cell_type": "markdown",
   "id": "06a92ce8",
   "metadata": {},
   "source": [
    "# Recursion Function"
   ]
  },
  {
   "cell_type": "code",
   "execution_count": 4,
   "id": "fa3b0609",
   "metadata": {},
   "outputs": [
    {
     "data": {
      "text/plain": [
       "'a'"
      ]
     },
     "execution_count": 4,
     "metadata": {},
     "output_type": "execute_result"
    }
   ],
   "source": [
    "def abc():\n",
    "    return \"a\"\n",
    "    print(\"pakistan\")\n",
    "    return(\"b\")\n",
    "abc()"
   ]
  },
  {
   "cell_type": "code",
   "execution_count": 15,
   "id": "a6e8f07f",
   "metadata": {},
   "outputs": [
    {
     "name": "stdout",
     "output_type": "stream",
     "text": [
      "2\n",
      "1\n",
      "0\n"
     ]
    }
   ],
   "source": [
    "def count_down(x):\n",
    "    print(x)\n",
    "    if x == 0:\n",
    "        return\n",
    "    else:\n",
    "        count_down(x-1)\n",
    "count_down(2)"
   ]
  },
  {
   "cell_type": "code",
   "execution_count": 37,
   "id": "b7bda47c",
   "metadata": {},
   "outputs": [
    {
     "name": "stdout",
     "output_type": "stream",
     "text": [
      "7\n",
      "8\n",
      "9\n",
      "10\n",
      "11\n"
     ]
    }
   ],
   "source": [
    "l =[1 , 2, 3 , 4, 5]\n",
    "\n",
    "for i in l:\n",
    "    a =  i + 2 * 3\n",
    "    print(a)"
   ]
  },
  {
   "cell_type": "code",
   "execution_count": 29,
   "id": "43de1858",
   "metadata": {},
   "outputs": [
    {
     "name": "stdout",
     "output_type": "stream",
     "text": [
      "[1, 2, 3, 4, 5]\n",
      "13\n"
     ]
    }
   ],
   "source": [
    "print(l)\n",
    "print(a)"
   ]
  },
  {
   "cell_type": "code",
   "execution_count": 33,
   "id": "0061ee81",
   "metadata": {},
   "outputs": [
    {
     "data": {
      "text/plain": [
       "[7, 8, 9, 10, 11]"
      ]
     },
     "execution_count": 33,
     "metadata": {},
     "output_type": "execute_result"
    }
   ],
   "source": [
    "list(map(lambda x : x+2*3 , l))"
   ]
  },
  {
   "cell_type": "code",
   "execution_count": 36,
   "id": "3366425e",
   "metadata": {},
   "outputs": [
    {
     "data": {
      "text/plain": [
       "[2, 4]"
      ]
     },
     "execution_count": 36,
     "metadata": {},
     "output_type": "execute_result"
    }
   ],
   "source": [
    "list(filter(lambda x:x % 2 ==0 ,l))"
   ]
  },
  {
   "cell_type": "markdown",
   "id": "c39ff8e0",
   "metadata": {},
   "source": [
    "# Error handling\n",
    "\n",
    "* Logical error\n",
    "    * solution testing\n",
    "    * manaul check line by line\n",
    "* development error\n",
    "    * syntax\n",
    "    * expression error\n",
    "    * IDE provide intellisence\n",
    "* Runtime Error\n",
    "    * when application  running on production environment\n",
    "    * exception handling\n",
    "         * try\n",
    "         * except\n",
    "         * else\n",
    "         * finally\n"
   ]
  },
  {
   "cell_type": "code",
   "execution_count": 80,
   "id": "94baf854",
   "metadata": {},
   "outputs": [
    {
     "name": "stdout",
     "output_type": "stream",
     "text": [
      "line1\n",
      "line2\n"
     ]
    },
    {
     "ename": "ZeroDivisionError",
     "evalue": "division by zero",
     "output_type": "error",
     "traceback": [
      "\u001b[1;31m---------------------------------------------------------------------------\u001b[0m",
      "\u001b[1;31mZeroDivisionError\u001b[0m                         Traceback (most recent call last)",
      "\u001b[1;32m~\\AppData\\Local\\Temp\\ipykernel_11288\\2740688641.py\u001b[0m in \u001b[0;36m<module>\u001b[1;34m\u001b[0m\n\u001b[0;32m      2\u001b[0m \u001b[0mprint\u001b[0m\u001b[1;33m(\u001b[0m\u001b[1;34m\"line2\"\u001b[0m\u001b[1;33m)\u001b[0m\u001b[1;33m\u001b[0m\u001b[1;33m\u001b[0m\u001b[0m\n\u001b[0;32m      3\u001b[0m \u001b[1;33m\u001b[0m\u001b[0m\n\u001b[1;32m----> 4\u001b[1;33m \u001b[0mprint\u001b[0m\u001b[1;33m(\u001b[0m \u001b[1;36m2\u001b[0m \u001b[1;33m/\u001b[0m \u001b[1;36m0\u001b[0m \u001b[1;33m)\u001b[0m\u001b[1;33m\u001b[0m\u001b[1;33m\u001b[0m\u001b[0m\n\u001b[0m\u001b[0;32m      5\u001b[0m \u001b[1;33m\u001b[0m\u001b[0m\n\u001b[0;32m      6\u001b[0m \u001b[0mprint\u001b[0m\u001b[1;33m(\u001b[0m\u001b[1;34m\"line3\"\u001b[0m\u001b[1;33m)\u001b[0m\u001b[1;33m\u001b[0m\u001b[1;33m\u001b[0m\u001b[0m\n",
      "\u001b[1;31mZeroDivisionError\u001b[0m: division by zero"
     ]
    }
   ],
   "source": [
    "print(\"line1\")\n",
    "print(\"line2\")\n",
    " \n",
    "print( 2 / 0 )\n",
    "\n",
    "print(\"line3\")\n",
    "print(\"line4\")"
   ]
  },
  {
   "cell_type": "code",
   "execution_count": 50,
   "id": "809b63f9",
   "metadata": {},
   "outputs": [
    {
     "name": "stdout",
     "output_type": "stream",
     "text": [
      "\n",
      "a = 2\n",
      "b = 3\n",
      "print(a +  b)\n",
      "\n",
      "5\n"
     ]
    }
   ],
   "source": [
    "code = \"\"\"\n",
    "a = 2\n",
    "b = 3\n",
    "print(a +  b)\n",
    "\"\"\"\n",
    "print(code)\n",
    "exec(code)"
   ]
  },
  {
   "cell_type": "code",
   "execution_count": 51,
   "id": "b2a8bc13",
   "metadata": {},
   "outputs": [
    {
     "data": {
      "text/plain": [
       "2"
      ]
     },
     "execution_count": 51,
     "metadata": {},
     "output_type": "execute_result"
    }
   ],
   "source": [
    "a"
   ]
  },
  {
   "cell_type": "code",
   "execution_count": 52,
   "id": "29349040",
   "metadata": {},
   "outputs": [
    {
     "data": {
      "text/plain": [
       "3"
      ]
     },
     "execution_count": 52,
     "metadata": {},
     "output_type": "execute_result"
    }
   ],
   "source": [
    "b"
   ]
  },
  {
   "cell_type": "code",
   "execution_count": 57,
   "id": "0c2cb8bd",
   "metadata": {},
   "outputs": [
    {
     "name": "stdout",
     "output_type": "stream",
     "text": [
      "-1\n",
      "pakistan zindabad\n"
     ]
    }
   ],
   "source": [
    "\n",
    "code = \"\"\"\n",
    "a = 2\n",
    "b = 3\n",
    "print(a -  b)\n",
    "\"\"\"\n",
    "try:\n",
    "    exec(code)\n",
    "except Exception as e:\n",
    "    print(e)\n",
    "print(\"pakistan zindabad\")"
   ]
  },
  {
   "cell_type": "markdown",
   "id": "4b7789c9",
   "metadata": {},
   "source": [
    "# Else with try except"
   ]
  },
  {
   "cell_type": "code",
   "execution_count": 74,
   "id": "01d5d4ad",
   "metadata": {},
   "outputs": [
    {
     "name": "stdout",
     "output_type": "stream",
     "text": [
      "line1\n",
      "line2\n",
      "2.0\n",
      "how you are good\n",
      "last line\n"
     ]
    }
   ],
   "source": [
    "print(\"line1\")\n",
    "print(\"line2\")\n",
    "\n",
    "try:\n",
    "    print(2 / 1)\n",
    "except Exception as e:\n",
    "    print(e)\n",
    "else:\n",
    "    print(\"how you are good\")\n",
    "print(\"last line\")"
   ]
  },
  {
   "cell_type": "markdown",
   "id": "64817cc7",
   "metadata": {},
   "source": [
    "# finally with try except"
   ]
  },
  {
   "cell_type": "code",
   "execution_count": 79,
   "id": "1dac6839",
   "metadata": {},
   "outputs": [
    {
     "name": "stdout",
     "output_type": "stream",
     "text": [
      "line1\n",
      "line2\n",
      "2.0\n",
      "how you are good\n",
      "har hall ma chalega\n",
      "last line\n"
     ]
    }
   ],
   "source": [
    "print(\"line1\")\n",
    "print(\"line2\")\n",
    "\n",
    "try:\n",
    "    print(2 / 1)\n",
    "except Exception as e:\n",
    "    print(e)\n",
    "else:\n",
    "    print(\"how you are good\")\n",
    "finally:\n",
    "    print(\"har hall ma chalega\")\n",
    "\n",
    "print(\"last line\")"
   ]
  },
  {
   "cell_type": "markdown",
   "id": "fc503bb5",
   "metadata": {},
   "source": [
    "# create our own exception"
   ]
  },
  {
   "cell_type": "code",
   "execution_count": 95,
   "id": "ec643021",
   "metadata": {},
   "outputs": [
    {
     "name": "stdout",
     "output_type": "stream",
     "text": [
      "29  Zohair 55\n"
     ]
    }
   ],
   "source": [
    "class Student():\n",
    "    def __init__(self , sid , name , age):\n",
    "        if age >= 60 or age <= 18:\n",
    "            raise(\"student age must be 18-60\")\n",
    "        self.studentid = sid #sttributes\n",
    "        self.name = name \n",
    "        self.age = age\n",
    "s1 = Student(29 ,\" Zohair\" , 55) \n",
    "print(s1.studentid , s1.name , s1.age)\n"
   ]
  },
  {
   "cell_type": "code",
   "execution_count": null,
   "id": "eb7d12d4",
   "metadata": {},
   "outputs": [],
   "source": [
    "    "
   ]
  },
  {
   "cell_type": "code",
   "execution_count": null,
   "id": "b9fb55fe",
   "metadata": {},
   "outputs": [],
   "source": []
  }
 ],
 "metadata": {
  "kernelspec": {
   "display_name": "Python 3 (ipykernel)",
   "language": "python",
   "name": "python3"
  },
  "language_info": {
   "codemirror_mode": {
    "name": "ipython",
    "version": 3
   },
   "file_extension": ".py",
   "mimetype": "text/x-python",
   "name": "python",
   "nbconvert_exporter": "python",
   "pygments_lexer": "ipython3",
   "version": "3.9.13"
  }
 },
 "nbformat": 4,
 "nbformat_minor": 5
}
