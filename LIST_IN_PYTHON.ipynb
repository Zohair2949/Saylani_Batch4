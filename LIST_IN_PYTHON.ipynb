{
 "cells": [
  {
   "cell_type": "markdown",
   "id": "9b263c72",
   "metadata": {},
   "source": [
    "# LIST\n"
   ]
  },
  {
   "cell_type": "code",
   "execution_count": 2,
   "id": "989e8c89",
   "metadata": {},
   "outputs": [
    {
     "name": "stdout",
     "output_type": "stream",
     "text": [
      "['zaid', 'saif', 'bilal', 1, 2, 3]\n",
      "2\n"
     ]
    }
   ],
   "source": [
    "friends = [ \"zaid\" , \"saif\" , \"bilal\" , 1 , 2 , 3]\n",
    "print(friends)\n",
    "print(friends)"
   ]
  },
  {
   "cell_type": "code",
   "execution_count": 1,
   "id": "8df84dcc",
   "metadata": {},
   "outputs": [
    {
     "name": "stdout",
     "output_type": "stream",
     "text": [
      "['zaid', 'saif', 'bilal', 1, 2, 3]\n"
     ]
    }
   ],
   "source": [
    "friends = [ \"zaid\" , \"saif\" , \"bilal\" , 1 , 2 , 3]\n",
    "print(friends)"
   ]
  },
  {
   "cell_type": "code",
   "execution_count": 3,
   "id": "3a5321cf",
   "metadata": {},
   "outputs": [
    {
     "name": "stdout",
     "output_type": "stream",
     "text": [
      "['zaid', 'saif', 'bilal', 1, 2, 3]\n",
      "['saif', 'bilal', 1]\n"
     ]
    }
   ],
   "source": [
    "#slicing yani agar apko koi list se sirf kuch part chayie to hum slicing krte hn\n",
    "friends = [ \"zaid\" , \"saif\" , \"bilal\" , 1 , 2 , 3]\n",
    "print(friends)\n",
    "print(friends[ 1       : 4 : 1])\n",
    "# --> var_name[ start  : end : step ]"
   ]
  },
  {
   "cell_type": "code",
   "execution_count": 8,
   "id": "b5247376",
   "metadata": {},
   "outputs": [
    {
     "name": "stdout",
     "output_type": "stream",
     "text": [
      "zaid\n"
     ]
    }
   ],
   "source": [
    "# ----->         0        1        2      3   4   5\n",
    "friends = [ \"zaid\" , \"saif\" , \"bilal\" , 1 , 2 , 3]\n",
    "# <-----      -6      -5        -4      -3  -2  -1\n",
    "print(friends[-6])"
   ]
  },
  {
   "cell_type": "code",
   "execution_count": 9,
   "id": "8b8c60db",
   "metadata": {},
   "outputs": [
    {
     "name": "stdout",
     "output_type": "stream",
     "text": [
      "zaid\n"
     ]
    }
   ],
   "source": [
    "friends = [ \"zaid\" , \"saif\" , \"bilal\" , 1 , 2 , 3]\n",
    "# <-----      -6      -5        -4      -3  -2  -1\n",
    "print(friends[-6])\n"
   ]
  },
  {
   "cell_type": "code",
   "execution_count": 22,
   "id": "603dada4",
   "metadata": {},
   "outputs": [
    {
     "name": "stdout",
     "output_type": "stream",
     "text": [
      "['zaid', 'saif', 'bilal', 1, 2, 3]\n",
      "zaid\n",
      "saif\n",
      "bilal\n",
      "1\n",
      "2\n",
      "3\n"
     ]
    }
   ],
   "source": [
    "friends = [ \"zaid\" , \"saif\" , \"bilal\" , 1 , 2 , 3]\n",
    "print(friends)\n",
    "\n",
    "counter = 0\n",
    "while counter < len(friends):\n",
    "        print(friends[counter])\n",
    "        counter += 1\n"
   ]
  },
  {
   "cell_type": "code",
   "execution_count": 19,
   "id": "6f647391",
   "metadata": {},
   "outputs": [
    {
     "name": "stdout",
     "output_type": "stream",
     "text": [
      "['Asif', 'Kashif', 'Hamza', 1000, 2000, 3000, True]\n",
      "Asif\n",
      "Kashif\n",
      "Hamza\n",
      "1000\n",
      "2000\n",
      "3000\n",
      "True\n"
     ]
    }
   ],
   "source": [
    "names = ['Asif',\"Kashif\",'Hamza',1000,2000,3000,True]\n",
    "print(names)\n",
    "\n",
    "counter = 0\n",
    "while counter < len(names):\n",
    "    print(names[counter])\n",
    "    counter += 1"
   ]
  },
  {
   "cell_type": "code",
   "execution_count": 25,
   "id": "db0fa897",
   "metadata": {},
   "outputs": [
    {
     "name": "stdout",
     "output_type": "stream",
     "text": [
      "['Asif', 'Kashif', 'Hamza', 1000, 2000, 3000, True]\n",
      "Kashif\n",
      "Hamza\n",
      "1000\n",
      "2000\n",
      "3000\n",
      "True\n"
     ]
    }
   ],
   "source": [
    "names = ['Asif',\"Kashif\",'Hamza',1000,2000,3000,True]\n",
    "print(names)\n",
    "\n",
    "counter = 1\n",
    "while counter < len(names):\n",
    "    print(names[counter])\n",
    "    counter += 1"
   ]
  },
  {
   "cell_type": "code",
   "execution_count": 28,
   "id": "77802a2b",
   "metadata": {},
   "outputs": [
    {
     "name": "stdout",
     "output_type": "stream",
     "text": [
      "['Asif', 'Kashif', 'Hamza', 1000, 2000, 3000, True]\n",
      "Kashif\n",
      "True\n"
     ]
    }
   ],
   "source": [
    "names = ['Asif',\"Kashif\",'Hamza',1000,2000,3000,True]\n",
    "print(names)\n",
    "\n",
    "counter = 1\n",
    "while counter < len(names):\n",
    "    print(names[counter])\n",
    "    counter +=5"
   ]
  },
  {
   "cell_type": "code",
   "execution_count": 29,
   "id": "b3565f5a",
   "metadata": {},
   "outputs": [
    {
     "name": "stdout",
     "output_type": "stream",
     "text": [
      "['Asif', 'Kashif', 'Hamza', 1000, 2000, 3000, True]\n",
      "Asif\n",
      "Kashif\n",
      "Hamza\n",
      "1000\n",
      "2000\n",
      "3000\n",
      "True\n"
     ]
    }
   ],
   "source": [
    "names = ['Asif',\"Kashif\",'Hamza',1000,2000,3000,True]\n",
    "print(names)\n",
    "\n",
    "for i in names:\n",
    "    print(i)"
   ]
  },
  {
   "cell_type": "code",
   "execution_count": 34,
   "id": "86908494",
   "metadata": {},
   "outputs": [
    {
     "name": "stdout",
     "output_type": "stream",
     "text": [
      "['apple', 'banana', 'cherry', 1, 5, 7, 9, 3, True, False, False]\n",
      "apple\n",
      "banana\n",
      "cherry\n",
      "1\n",
      "5\n",
      "7\n",
      "9\n",
      "3\n",
      "True\n",
      "False\n",
      "False\n"
     ]
    }
   ],
   "source": [
    "l1 = [\"apple\", \"banana\", \"cherry\" , 1, 5, 7, 9, 3 ,True, False, False ]\n",
    "print(l1)\n",
    "\n",
    "for i in l1:\n",
    "    print(i)\n"
   ]
  },
  {
   "cell_type": "code",
   "execution_count": 38,
   "id": "d6bd1c0d",
   "metadata": {},
   "outputs": [
    {
     "name": "stdout",
     "output_type": "stream",
     "text": [
      "['apple', 'banana', 'cherry', 1, 5, 7, 9, 3, True, False, False]\n",
      "[5, 7, 9, 3]\n",
      "[5, 9, True, False]\n",
      "['apple', 'cherry']\n"
     ]
    }
   ],
   "source": [
    "l1 = [\"apple\", \"banana\", \"cherry\" , 1, 5, 7, 9, 3 ,True, False, False ]\n",
    "print(l1)\n",
    "\n",
    "print(l1[4 : 8 :1])\n",
    "print(l1[4 :  :2])\n",
    "print(l1[ : 3 :2])\n"
   ]
  },
  {
   "cell_type": "code",
   "execution_count": 42,
   "id": "afc14c18",
   "metadata": {},
   "outputs": [
    {
     "data": {
      "text/plain": [
       "['apple', 'banana', 'cherry', 1, 5, 7, 9, 3, True, False, False]"
      ]
     },
     "execution_count": 42,
     "metadata": {},
     "output_type": "execute_result"
    }
   ],
   "source": [
    "l1 * 1"
   ]
  },
  {
   "cell_type": "code",
   "execution_count": 45,
   "id": "c7c70c95",
   "metadata": {},
   "outputs": [
    {
     "data": {
      "text/plain": [
       "['apple',\n",
       " 'banana',\n",
       " 'cherry',\n",
       " 1,\n",
       " 5,\n",
       " 7,\n",
       " 9,\n",
       " 3,\n",
       " True,\n",
       " False,\n",
       " False,\n",
       " 'Asif',\n",
       " 'Kashif',\n",
       " 'Hamza',\n",
       " 1000,\n",
       " 2000,\n",
       " 3000,\n",
       " True,\n",
       " 'zaid',\n",
       " 'saif',\n",
       " 'bilal',\n",
       " 1,\n",
       " 2,\n",
       " 3]"
      ]
     },
     "execution_count": 45,
     "metadata": {},
     "output_type": "execute_result"
    }
   ],
   "source": [
    "l1 + names + friends"
   ]
  },
  {
   "cell_type": "code",
   "execution_count": 2,
   "id": "6498d6d4",
   "metadata": {},
   "outputs": [
    {
     "data": {
      "text/plain": [
       "['count', 'index']"
      ]
     },
     "execution_count": 2,
     "metadata": {},
     "output_type": "execute_result"
    }
   ],
   "source": [
    "[i for i in dir(tuple) if \"__\" not in i]"
   ]
  },
  {
   "cell_type": "code",
   "execution_count": 51,
   "id": "4ebee3ff",
   "metadata": {},
   "outputs": [
    {
     "name": "stdout",
     "output_type": "stream",
     "text": [
      "['zaid', 'saif', 'bilal', 1, 2, 3, 4]\n"
     ]
    }
   ],
   "source": [
    "# append function in list\n",
    "\n",
    "friends = [ \"zaid\" , \"saif\" , \"bilal\" , 1 , 2 , 3]\n",
    "friends.append(4)\n",
    "print(friends)"
   ]
  },
  {
   "cell_type": "code",
   "execution_count": 53,
   "id": "8d6a80d8",
   "metadata": {},
   "outputs": [
    {
     "name": "stdout",
     "output_type": "stream",
     "text": [
      "['zaid', 'saif', 'bilal', 1, 2, 3, 'saad']\n"
     ]
    }
   ],
   "source": [
    "friends = [ \"zaid\" , \"saif\" , \"bilal\" , 1 , 2 , 3]\n",
    "friends.append(\"saad\")\n",
    "print(friends)"
   ]
  },
  {
   "cell_type": "code",
   "execution_count": 54,
   "id": "7b299775",
   "metadata": {},
   "outputs": [
    {
     "name": "stdout",
     "output_type": "stream",
     "text": [
      "['lion', 'cat', 'horse', 'monkey']\n"
     ]
    }
   ],
   "source": [
    "animal = []\n",
    "\n",
    "animal.append(\"lion\")\n",
    "animal.append(\"cat\")\n",
    "animal.append(\"horse\")\n",
    "animal.append(\"monkey\")\n",
    "\n",
    "print(animal)"
   ]
  },
  {
   "cell_type": "code",
   "execution_count": 55,
   "id": "becf9f05",
   "metadata": {},
   "outputs": [
    {
     "name": "stdout",
     "output_type": "stream",
     "text": [
      "['zaid', 'saif', 'bilal', 1, 2, 3, 'saad']\n"
     ]
    }
   ],
   "source": [
    "print(friends)"
   ]
  },
  {
   "cell_type": "code",
   "execution_count": 57,
   "id": "e5d21da2",
   "metadata": {},
   "outputs": [
    {
     "name": "stdout",
     "output_type": "stream",
     "text": [
      "[]\n"
     ]
    }
   ],
   "source": [
    "animal.clear()\n",
    "print(animal)"
   ]
  },
  {
   "cell_type": "code",
   "execution_count": 61,
   "id": "cdf058fd",
   "metadata": {},
   "outputs": [
    {
     "name": "stdout",
     "output_type": "stream",
     "text": [
      "['zaid', 'saif', 'bilal', 'Ali', 2, 3, 'saad']\n"
     ]
    }
   ],
   "source": [
    "animal = friends.copy()\n",
    "animal[3] = \"Ali\"\n",
    "print(animal)"
   ]
  },
  {
   "cell_type": "code",
   "execution_count": 63,
   "id": "ce3812f5",
   "metadata": {},
   "outputs": [
    {
     "name": "stdout",
     "output_type": "stream",
     "text": [
      "[]\n"
     ]
    }
   ],
   "source": [
    "animal.clear()\n",
    "print(animal)"
   ]
  },
  {
   "cell_type": "code",
   "execution_count": 65,
   "id": "8e123761",
   "metadata": {},
   "outputs": [
    {
     "name": "stdout",
     "output_type": "stream",
     "text": [
      "['Asif', 'Kashif', 'Hamza', 1000, 2000, 3000, True]\n",
      "['Asif', 'Kashif', 'Hamza', 'jhanzeeb', 2000, 3000, True]\n"
     ]
    }
   ],
   "source": [
    "print(names)\n",
    "animal = names.copy()\n",
    "animal[3] = \"jhanzeeb\"\n",
    "print(animal)\n"
   ]
  },
  {
   "cell_type": "code",
   "execution_count": 80,
   "id": "c7b28825",
   "metadata": {},
   "outputs": [],
   "source": [
    "names = ['Asif', 'Kashif', 'Hamza', 2000, 2000, 2000, True]"
   ]
  },
  {
   "cell_type": "code",
   "execution_count": 78,
   "id": "a65e120a",
   "metadata": {},
   "outputs": [
    {
     "name": "stdout",
     "output_type": "stream",
     "text": [
      "3\n",
      "6\n"
     ]
    }
   ],
   "source": [
    "names = ['Asif', 'Kashif', 'Hamza', 2000, 2000, 2000, True]\n",
    "print(names.count(2000))\n",
    "print(names.index(True))"
   ]
  },
  {
   "cell_type": "code",
   "execution_count": 96,
   "id": "43d1db03",
   "metadata": {},
   "outputs": [
    {
     "name": "stdout",
     "output_type": "stream",
     "text": [
      "0\n",
      "1\n",
      "4\n",
      "5\n"
     ]
    }
   ],
   "source": [
    "names = [ 2000 , 2000 , 'Kashif', 'Hamza', 2000, 2000, 2000, True]\n",
    "print(names.index(2000))\n",
    "print(names.index(2000 , 1))\n",
    "print(names.index (2000, 2))\n",
    "print(names.count(2000))\n"
   ]
  },
  {
   "cell_type": "code",
   "execution_count": 106,
   "id": "0be8e816",
   "metadata": {},
   "outputs": [
    {
     "name": "stdout",
     "output_type": "stream",
     "text": [
      "['Asif', 'Kashif', 'Hamza', True, 12000, 22000, 23000]\n",
      "['Asif', 'Kashif', 'Hamza', True]\n",
      "['Asif', 'Kashif', 'Hamza', True, 12000, 22000, 23000]\n"
     ]
    }
   ],
   "source": [
    "# extend k jo purpose hota hn k list ma item ko permanantly add krna a\n",
    "\n",
    "names = ['Asif', 'Kashif', 'Hamza', True]\n",
    "cell =  [12000, 22000, 23000]\n",
    "print(names + cell)\n",
    "print(names)\n",
    "names.extend(cell)\n",
    "print(names)\n"
   ]
  },
  {
   "cell_type": "code",
   "execution_count": 100,
   "id": "05e9d425",
   "metadata": {},
   "outputs": [
    {
     "name": "stdout",
     "output_type": "stream",
     "text": [
      "['Asif', 'Kashif', 'Hamza', True, 12000, 22000, 23000]\n"
     ]
    }
   ],
   "source": [
    "print(names)"
   ]
  },
  {
   "cell_type": "code",
   "execution_count": 110,
   "id": "c3b57fb8",
   "metadata": {},
   "outputs": [
    {
     "name": "stdout",
     "output_type": "stream",
     "text": [
      "['a', 'b', 'c', 'd', 'e']\n",
      "['a', 'b', 'c', 'd']\n",
      "['a', 'b', 'c']\n",
      "['b', 'c']\n"
     ]
    }
   ],
   "source": [
    "n1 = [\"a\" , \"b\", \"c\", \"d\", \"e\", \"f\"]\n",
    "\n",
    "n1.pop()\n",
    "print(n1)\n",
    "n1.pop()\n",
    "print(n1)\n",
    "n1.pop()\n",
    "print(n1)\n",
    "n1.pop(0)\n",
    "print(n1)"
   ]
  },
  {
   "cell_type": "code",
   "execution_count": 112,
   "id": "8a3daa10",
   "metadata": {},
   "outputs": [
    {
     "name": "stdout",
     "output_type": "stream",
     "text": [
      "['a', 'b', 'c', 'd', 'e']\n",
      "['a', 'b', 'c', 'd']\n",
      "['a', 'b', 'c']\n",
      "['a', 'b']\n",
      "['f', 'e', 'd', 'c']\n"
     ]
    }
   ],
   "source": [
    "# mainly purpose ye tha k agar ap koi cheez pop kr rhe hn yani list se bahar nikl rahe hn to yaad rhe hn k kiya nikla hn for record purpose\n",
    "n1 = [\"a\" , \"b\", \"c\", \"d\", \"e\", \"f\"]\n",
    "n2 = []\n",
    "\n",
    "n2.extend(n1.pop())\n",
    "print(n1)\n",
    "n2.extend(n1.pop())\n",
    "print(n1)\n",
    "n2.extend(n1.pop())\n",
    "print(n1)\n",
    "n2.extend(n1.pop())\n",
    "print(n1)\n",
    "\n",
    "print(n2)"
   ]
  },
  {
   "cell_type": "code",
   "execution_count": 113,
   "id": "bf56cad7",
   "metadata": {},
   "outputs": [
    {
     "name": "stdout",
     "output_type": "stream",
     "text": [
      "['b', 'g', 'h', 'k', 'l', 'm']\n"
     ]
    }
   ],
   "source": [
    "c\n",
    "n1.sort()\n",
    "print(n1)\n"
   ]
  },
  {
   "cell_type": "code",
   "execution_count": 114,
   "id": "f13a8643",
   "metadata": {},
   "outputs": [
    {
     "name": "stdout",
     "output_type": "stream",
     "text": [
      "['m', 'l', 'k', 'h', 'g', 'b']\n"
     ]
    }
   ],
   "source": [
    "n1.reverse()\n",
    "print(n1)"
   ]
  },
  {
   "cell_type": "code",
   "execution_count": 115,
   "id": "35a5f96f",
   "metadata": {},
   "outputs": [
    {
     "name": "stdout",
     "output_type": "stream",
     "text": [
      "['m', 'l', 'k', 'h', 'g', 'b']\n"
     ]
    }
   ],
   "source": [
    "n1.sort(reverse = True)\n",
    "print(n1)"
   ]
  },
  {
   "cell_type": "code",
   "execution_count": 120,
   "id": "4b31e650",
   "metadata": {},
   "outputs": [
    {
     "name": "stdout",
     "output_type": "stream",
     "text": [
      "['b', 'c', 'd', 'e', 'f']\n"
     ]
    }
   ],
   "source": [
    "n1 = [\"a\" , \"b\", \"c\", \"d\", \"e\", \"f\"]\n",
    "\n",
    "n2 = n1.remove(\"a\")\n",
    "print(n1)\n"
   ]
  },
  {
   "cell_type": "code",
   "execution_count": null,
   "id": "6093a04a",
   "metadata": {},
   "outputs": [],
   "source": [
    "a = [ \"ali\" ,m]"
   ]
  }
 ],
 "metadata": {
  "kernelspec": {
   "display_name": "Python 3 (ipykernel)",
   "language": "python",
   "name": "python3"
  },
  "language_info": {
   "codemirror_mode": {
    "name": "ipython",
    "version": 3
   },
   "file_extension": ".py",
   "mimetype": "text/x-python",
   "name": "python",
   "nbconvert_exporter": "python",
   "pygments_lexer": "ipython3",
   "version": "3.9.13"
  }
 },
 "nbformat": 4,
 "nbformat_minor": 5
}
