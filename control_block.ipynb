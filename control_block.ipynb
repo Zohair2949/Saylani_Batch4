{
 "cells": [
  {
   "cell_type": "markdown",
   "id": "dfc01c45",
   "metadata": {},
   "source": [
    "# Programming paradigms\n",
    "* linear programming\n",
    "* control block / structrual programming\n",
    "* OOPS ( Object oriented programming)"
   ]
  },
  {
   "cell_type": "code",
   "execution_count": null,
   "id": "8367214d",
   "metadata": {},
   "outputs": [],
   "source": [
    "# linear programming"
   ]
  },
  {
   "cell_type": "code",
   "execution_count": 11,
   "id": "968aabf1",
   "metadata": {},
   "outputs": [
    {
     "name": "stdout",
     "output_type": "stream",
     "text": [
      "zohair\n",
      "zohair\n",
      "zohair\n",
      "zohair\n",
      "zohair\n",
      "zohair\n",
      "zohair\n",
      "zohair\n",
      "zohair\n"
     ]
    }
   ],
   "source": [
    "print(\"zohair\")\n",
    "print(\"zohair\")\n",
    "print(\"zohair\")\n",
    "print(\"zohair\")\n",
    "print(\"zohair\")\n",
    "print(\"zohair\")\n",
    "print(\"zohair\")\n",
    "print(\"zohair\")\n",
    "print(\"zohair\")"
   ]
  },
  {
   "cell_type": "markdown",
   "id": "b47a401d",
   "metadata": {},
   "source": [
    "# STRUCTRUAL PROGRAMMING"
   ]
  },
  {
   "cell_type": "code",
   "execution_count": 17,
   "id": "215ca9a2",
   "metadata": {},
   "outputs": [
    {
     "name": "stdout",
     "output_type": "stream",
     "text": [
      "ZOHAIR\n",
      "\t ZAIjD\n",
      "ZOHAIR\n",
      "\t ZAIjD\n",
      "ZOHAIR\n",
      "\t ZAIjD\n",
      "ZOHAIR\n",
      "\t ZAIjD\n",
      "ZOHAIR\n",
      "\t ZAIjD\n",
      "ZOHAIR\n",
      "\t ZAIjD\n",
      "ZOHAIR\n",
      "\t ZAIjD\n",
      "ZOHAIR\n",
      "\t ZAIjD\n",
      "ZOHAIR\n",
      "\t ZAIjD\n",
      "ZOHAIR\n",
      "\t ZAIjD\n"
     ]
    }
   ],
   "source": [
    "for i in range(1 , 11):\n",
    "    print(\"ZOHAIR\")\n",
    "    print(\"\\t ZAIjD\")"
   ]
  },
  {
   "cell_type": "markdown",
   "id": "da58dbb5",
   "metadata": {},
   "source": [
    "# CONTROLS  \n",
    "* IF\n",
    "   * ELSE\n",
    "   * elif\n",
    "* for/while\n",
    "   * break\n",
    "   * continue\n",
    "   * pass\n",
    "   * else\n",
    "* def\n",
    "* try\n",
    "  * except\n",
    "  * else\n",
    "  * finally\n",
    " * class\n"
   ]
  },
  {
   "cell_type": "markdown",
   "id": "57caba0f",
   "metadata": {},
   "source": [
    "# if \n",
    "*  if logic:\n",
    "* True_block_body\n",
    "* else:\n",
    "* false_block_body"
   ]
  },
  {
   "cell_type": "markdown",
   "id": "e932e614",
   "metadata": {},
   "source": [
    "# Comprehensice sgtyle\n",
    " *  True_block_body  if logic:    else:   false_block_body"
   ]
  },
  {
   "cell_type": "code",
   "execution_count": 20,
   "id": "60437727",
   "metadata": {},
   "outputs": [
    {
     "name": "stdout",
     "output_type": "stream",
     "text": [
      "karachi\n"
     ]
    }
   ],
   "source": [
    "if True: \n",
    "    print(\"karachi\")\n",
    "else:\n",
    "    print(\"Lahore\")"
   ]
  },
  {
   "cell_type": "code",
   "execution_count": 21,
   "id": "c2e5bffc",
   "metadata": {},
   "outputs": [
    {
     "name": "stdout",
     "output_type": "stream",
     "text": [
      "Lahore\n"
     ]
    }
   ],
   "source": [
    "if False: \n",
    "    print(\"karachi\")\n",
    "else:\n",
    "    print(\"Lahore\")"
   ]
  },
  {
   "cell_type": "code",
   "execution_count": 29,
   "id": "eb9dbd86",
   "metadata": {},
   "outputs": [
    {
     "name": "stdout",
     "output_type": "stream",
     "text": [
      "Enter a number09\n",
      "9 is odd number\n"
     ]
    }
   ],
   "source": [
    "num = int(input(\"Enter a number =\"))\n",
    "if num % 2 == 0:\n",
    "    print(f\"{num} is even number\")\n",
    "else:\n",
    "    print(f\"{num} is odd number\")"
   ]
  },
  {
   "cell_type": "code",
   "execution_count": 35,
   "id": "68a30d89",
   "metadata": {},
   "outputs": [
    {
     "name": "stdout",
     "output_type": "stream",
     "text": [
      "Enter Your Percentage: 890\n",
      "You have entered a wrong percentage\n"
     ]
    }
   ],
   "source": [
    "per = int(input(\"Enter Your Percentage: \"))\n",
    "if per >=100:\n",
    "    print(\"You have entered a wrong percentage\")\n",
    "elif per > 80 :\n",
    "    print(\"A+\")\n",
    "elif per >= 70:\n",
    "    print(\"A\")\n",
    "elif per >= 60:\n",
    "    print(\"B\")\n",
    "elif per >= 50:\n",
    "    print(\"C\")\n",
    "elif per >= 40:\n",
    "    print(\"D\")\n",
    "elif per >= 33:\n",
    "    print(\"E\")\n",
    "else:\n",
    "    print(\"FAIL\")\n"
   ]
  },
  {
   "cell_type": "code",
   "execution_count": 38,
   "id": "ce5b2de3",
   "metadata": {},
   "outputs": [
    {
     "data": {
      "text/plain": [
       "True"
      ]
     },
     "execution_count": 38,
     "metadata": {},
     "output_type": "execute_result"
    }
   ],
   "source": [
    "True and True or False"
   ]
  },
  {
   "cell_type": "code",
   "execution_count": 41,
   "id": "d247c42c",
   "metadata": {},
   "outputs": [
    {
     "name": "stdout",
     "output_type": "stream",
     "text": [
      "Enter Your Percentage: 78\n",
      "A\n"
     ]
    }
   ],
   "source": [
    "per = int(input(\"Enter Your Percentage: \"))\n",
    "if per > 0 and per <= 32 :\n",
    "    print(\"Fail\")\n",
    "elif per >= 33 and per <= 40:\n",
    "    print(\"E\")\n",
    "elif per >= 41 and per<= 50:\n",
    "    print(\"D\")\n",
    "elif per >= 51 and per <= 60 :\n",
    "    print(\"C\")\n",
    "elif per >= 61 and per <= 70:\n",
    "    print(\"B\")\n",
    "elif per >= 71 and per <= 80:\n",
    "    print(\"A\")\n",
    "elif per >= 81 and per <= 90:\n",
    "    print(\"A+\")\n",
    "else:\n",
    "    print(\"YOU ARE NOT ENTERING RIGHT PERCENTAGE\")"
   ]
  },
  {
   "cell_type": "code",
   "execution_count": 45,
   "id": "17ccc9c2",
   "metadata": {},
   "outputs": [
    {
     "name": "stdout",
     "output_type": "stream",
     "text": [
      "Enter Your Name: Admin\n",
      "Enter Your password: admin\n",
      "WELCOME\n"
     ]
    }
   ],
   "source": [
    "user_name = input(\"Enter Your Name: \")\n",
    "user_password = input(\"Enter Your password: \")\n",
    "\n",
    "if user_name.lower() == \"admin\" and user_password == \"admin\":\n",
    "    print(\"WELCOME\")\n",
    "else:\n",
    "    print(\"you are not a valid user\")"
   ]
  },
  {
   "cell_type": "code",
   "execution_count": 46,
   "id": "c5a236e8",
   "metadata": {},
   "outputs": [
    {
     "name": "stdout",
     "output_type": "stream",
     "text": [
      "Enter Your Name: HKAJNSK\n",
      "Enter Your password: NBKALNS\n",
      "you are not a valid user\n"
     ]
    }
   ],
   "source": [
    "user_name = input(\"Enter Your Name: \")\n",
    "user_password = input(\"Enter Your password: \")\n",
    "\n",
    "if user_name.lower() == \"admin\" and user_password == \"admin\":\n",
    "    print(\"WELCOME\")\n",
    "else:\n",
    "    print(\"you are not a valid user\")"
   ]
  },
  {
   "cell_type": "markdown",
   "id": "e0a78d59",
   "metadata": {},
   "source": [
    "# loop"
   ]
  },
  {
   "cell_type": "code",
   "execution_count": 47,
   "id": "f1407fd6",
   "metadata": {},
   "outputs": [
    {
     "data": {
      "text/plain": [
       "['__add__',\n",
       " '__class__',\n",
       " '__contains__',\n",
       " '__delattr__',\n",
       " '__dir__',\n",
       " '__doc__',\n",
       " '__eq__',\n",
       " '__format__',\n",
       " '__ge__',\n",
       " '__getattribute__',\n",
       " '__getitem__',\n",
       " '__getnewargs__',\n",
       " '__gt__',\n",
       " '__hash__',\n",
       " '__init__',\n",
       " '__init_subclass__',\n",
       " '__iter__',\n",
       " '__le__',\n",
       " '__len__',\n",
       " '__lt__',\n",
       " '__mod__',\n",
       " '__mul__',\n",
       " '__ne__',\n",
       " '__new__',\n",
       " '__reduce__',\n",
       " '__reduce_ex__',\n",
       " '__repr__',\n",
       " '__rmod__',\n",
       " '__rmul__',\n",
       " '__setattr__',\n",
       " '__sizeof__',\n",
       " '__str__',\n",
       " '__subclasshook__',\n",
       " 'capitalize',\n",
       " 'casefold',\n",
       " 'center',\n",
       " 'count',\n",
       " 'encode',\n",
       " 'endswith',\n",
       " 'expandtabs',\n",
       " 'find',\n",
       " 'format',\n",
       " 'format_map',\n",
       " 'index',\n",
       " 'isalnum',\n",
       " 'isalpha',\n",
       " 'isascii',\n",
       " 'isdecimal',\n",
       " 'isdigit',\n",
       " 'isidentifier',\n",
       " 'islower',\n",
       " 'isnumeric',\n",
       " 'isprintable',\n",
       " 'isspace',\n",
       " 'istitle',\n",
       " 'isupper',\n",
       " 'join',\n",
       " 'ljust',\n",
       " 'lower',\n",
       " 'lstrip',\n",
       " 'maketrans',\n",
       " 'partition',\n",
       " 'removeprefix',\n",
       " 'removesuffix',\n",
       " 'replace',\n",
       " 'rfind',\n",
       " 'rindex',\n",
       " 'rjust',\n",
       " 'rpartition',\n",
       " 'rsplit',\n",
       " 'rstrip',\n",
       " 'split',\n",
       " 'splitlines',\n",
       " 'startswith',\n",
       " 'strip',\n",
       " 'swapcase',\n",
       " 'title',\n",
       " 'translate',\n",
       " 'upper',\n",
       " 'zfill']"
      ]
     },
     "execution_count": 47,
     "metadata": {},
     "output_type": "execute_result"
    }
   ],
   "source": [
    "dir(str)"
   ]
  },
  {
   "cell_type": "code",
   "execution_count": 51,
   "id": "ca3a5734",
   "metadata": {},
   "outputs": [
    {
     "name": "stdout",
     "output_type": "stream",
     "text": [
      "a\n",
      "b\n",
      "c\n",
      "d\n",
      "e\n"
     ]
    }
   ],
   "source": [
    "for i in ['a' , 'b' , 'c' , 'd' , 'e']:\n",
    "    print(i)"
   ]
  },
  {
   "cell_type": "code",
   "execution_count": 55,
   "id": "d05220ba",
   "metadata": {},
   "outputs": [
    {
     "name": "stdout",
     "output_type": "stream",
     "text": [
      "0 aas\n",
      "1 assa\n",
      "2 ahka\n",
      "3 ahak\n"
     ]
    }
   ],
   "source": [
    "for index, value in enumerate(['aas' , 'assa' , 'ahka' , 'ahak']):\n",
    "    print(index , value)"
   ]
  },
  {
   "cell_type": "code",
   "execution_count": 58,
   "id": "cde17652",
   "metadata": {},
   "outputs": [
    {
     "data": {
      "text/plain": [
       "['P', 'a', 'k', 'i', 's', 't', 'a', 'n']"
      ]
     },
     "execution_count": 58,
     "metadata": {},
     "output_type": "execute_result"
    }
   ],
   "source": [
    "list(\"Pakistan\")"
   ]
  },
  {
   "cell_type": "markdown",
   "id": "5f0cda19",
   "metadata": {},
   "source": [
    "# ASCII\n",
    "\n",
    "* 0-9 = 48 - 57\n",
    "* A-Z = 65 - 90\n",
    "* a-z = 97 - 122"
   ]
  },
  {
   "cell_type": "code",
   "execution_count": 61,
   "id": "f486aed1",
   "metadata": {},
   "outputs": [
    {
     "name": "stdout",
     "output_type": "stream",
     "text": [
      "65\n",
      "97\n",
      "48\n"
     ]
    }
   ],
   "source": [
    "print(ord(\"A\"))\n",
    "print(ord(\"a\"))\n",
    "print(ord(\"0\"))"
   ]
  },
  {
   "cell_type": "code",
   "execution_count": 63,
   "id": "b6a94d0d",
   "metadata": {},
   "outputs": [
    {
     "name": "stdout",
     "output_type": "stream",
     "text": [
      "A\n",
      "B\n",
      "C\n",
      "D\n",
      "E\n",
      "F\n",
      "G\n",
      "H\n",
      "I\n",
      "J\n",
      "K\n",
      "L\n",
      "M\n",
      "N\n",
      "O\n",
      "P\n",
      "Q\n",
      "R\n",
      "S\n",
      "T\n",
      "U\n",
      "V\n",
      "W\n",
      "X\n",
      "Y\n",
      "Z\n"
     ]
    }
   ],
   "source": [
    "for i in range(65 , 91):\n",
    "    print(chr(i))\n"
   ]
  },
  {
   "cell_type": "code",
   "execution_count": 64,
   "id": "300f66c1",
   "metadata": {},
   "outputs": [
    {
     "data": {
      "text/plain": [
       "['A',\n",
       " 'B',\n",
       " 'C',\n",
       " 'D',\n",
       " 'E',\n",
       " 'F',\n",
       " 'G',\n",
       " 'H',\n",
       " 'I',\n",
       " 'J',\n",
       " 'K',\n",
       " 'L',\n",
       " 'M',\n",
       " 'N',\n",
       " 'O',\n",
       " 'P',\n",
       " 'Q',\n",
       " 'R',\n",
       " 'S',\n",
       " 'T',\n",
       " 'U',\n",
       " 'V',\n",
       " 'W',\n",
       " 'X',\n",
       " 'Y',\n",
       " 'Z']"
      ]
     },
     "execution_count": 64,
     "metadata": {},
     "output_type": "execute_result"
    }
   ],
   "source": [
    "[ chr(i) for i in range(65 , 91)]\n",
    "  "
   ]
  },
  {
   "cell_type": "code",
   "execution_count": 66,
   "id": "0f49a875",
   "metadata": {},
   "outputs": [
    {
     "data": {
      "text/plain": [
       "['A',\n",
       " 'B',\n",
       " 'C',\n",
       " 'D',\n",
       " 'E',\n",
       " 'F',\n",
       " 'G',\n",
       " 'H',\n",
       " 'I',\n",
       " 'J',\n",
       " 'K',\n",
       " 'L',\n",
       " 'M',\n",
       " 'N',\n",
       " 'O',\n",
       " 'P',\n",
       " 'Q',\n",
       " 'R',\n",
       " 'S',\n",
       " 'T',\n",
       " 'U',\n",
       " 'V',\n",
       " 'W',\n",
       " 'X',\n",
       " 'Y',\n",
       " 'Z',\n",
       " 'a',\n",
       " 'b',\n",
       " 'c',\n",
       " 'd',\n",
       " 'e',\n",
       " 'f',\n",
       " 'g',\n",
       " 'h',\n",
       " 'i',\n",
       " 'j',\n",
       " 'k',\n",
       " 'l',\n",
       " 'm',\n",
       " 'n',\n",
       " 'o',\n",
       " 'p',\n",
       " 'q',\n",
       " 'r',\n",
       " 's',\n",
       " 't',\n",
       " 'u',\n",
       " 'v',\n",
       " 'w',\n",
       " 'x',\n",
       " 'y',\n",
       " 'z',\n",
       " '0',\n",
       " '1',\n",
       " '2',\n",
       " '3',\n",
       " '4',\n",
       " '5',\n",
       " '6',\n",
       " '7',\n",
       " '8',\n",
       " '9']"
      ]
     },
     "execution_count": 66,
     "metadata": {},
     "output_type": "execute_result"
    }
   ],
   "source": [
    "\n",
    "[ chr(i) for i in range(65 , 91)] +\\\n",
    "[ chr(i) for i in range(97 , 123)] +\\\n",
    "[ chr(i) for i in range(48 , 58 )]\n",
    "\n"
   ]
  },
  {
   "cell_type": "code",
   "execution_count": 68,
   "id": "6432f201",
   "metadata": {},
   "outputs": [
    {
     "ename": "SyntaxError",
     "evalue": "invalid syntax (4110318148.py, line 2)",
     "output_type": "error",
     "traceback": [
      "\u001b[1;36m  File \u001b[1;32m\"C:\\Users\\A.R.F.T\\AppData\\Local\\Temp\\ipykernel_8808\\4110318148.py\"\u001b[1;36m, line \u001b[1;32m2\u001b[0m\n\u001b[1;33m    [ chr(i) for i in range(65 , 91)] +\u001b[0m\n\u001b[1;37m                                       ^\u001b[0m\n\u001b[1;31mSyntaxError\u001b[0m\u001b[1;31m:\u001b[0m invalid syntax\n"
     ]
    }
   ],
   "source": [
    "# it will reflect errror because as we have not used \\ which tell the system that this is same line task which i have written in next step\n",
    "[ chr(i) for i in range(65 , 91)] +\n",
    "[ chr(i) for i in range(97 , 123)] +\n",
    "[ chr(i) for i in range(48 , 58 )]\n"
   ]
  },
  {
   "cell_type": "code",
   "execution_count": 75,
   "id": "6076d75c",
   "metadata": {},
   "outputs": [
    {
     "data": {
      "text/plain": [
       "['A', 'C', 'E', 'G', 'I', 'K', 'M', 'O', 'Q', 'S', 'U', 'W', 'Y']"
      ]
     },
     "execution_count": 75,
     "metadata": {},
     "output_type": "execute_result"
    }
   ],
   "source": [
    "[chr(i) for i in range(65 , 91) if i % 2 != 0 ]"
   ]
  },
  {
   "cell_type": "code",
   "execution_count": 72,
   "id": "f86c1191",
   "metadata": {},
   "outputs": [
    {
     "data": {
      "text/plain": [
       "['B', 'D', 'F', 'H', 'J', 'L', 'N', 'P', 'R', 'T', 'V', 'X', 'Z']"
      ]
     },
     "execution_count": 72,
     "metadata": {},
     "output_type": "execute_result"
    }
   ],
   "source": [
    "[chr(i) for i in range(65 , 91) if i % 2 == 0 ]"
   ]
  },
  {
   "cell_type": "code",
   "execution_count": 76,
   "id": "1eb7521f",
   "metadata": {},
   "outputs": [
    {
     "name": "stdout",
     "output_type": "stream",
     "text": [
      "1\n"
     ]
    }
   ],
   "source": [
    "for i in (range(1, 100)):\n",
    "    print(i)\n",
    "    break"
   ]
  },
  {
   "cell_type": "code",
   "execution_count": 79,
   "id": "ae9e181d",
   "metadata": {},
   "outputs": [
    {
     "name": "stdout",
     "output_type": "stream",
     "text": [
      "1\n",
      "2\n",
      "3\n",
      "4\n",
      "5\n",
      "6\n",
      "7\n"
     ]
    }
   ],
   "source": [
    "for i in (range(1, 100)):\n",
    "    print(i)\n",
    "    if i == 7:\n",
    "         break"
   ]
  },
  {
   "cell_type": "code",
   "execution_count": 98,
   "id": "2b5cba2c",
   "metadata": {},
   "outputs": [
    {
     "name": "stdout",
     "output_type": "stream",
     "text": [
      "{'id': 1, 'name': 'ali'}\n"
     ]
    }
   ],
   "source": [
    "data = [\n",
    "    { 'id' : 1 , 'name' : 'ali'},\n",
    "    { 'id' : 2 , 'name' : 'zaid'},\n",
    "    { 'id' : 3 , 'name' : 'saad'}\n",
    "    ]\n",
    "\n",
    "for record in data:\n",
    "        print(record)\n",
    "        break   "
   ]
  },
  {
   "cell_type": "code",
   "execution_count": 99,
   "id": "f3c6fe73",
   "metadata": {},
   "outputs": [
    {
     "name": "stdout",
     "output_type": "stream",
     "text": [
      "1\n",
      "2\n",
      "3\n",
      "4\n",
      "6\n",
      "7\n",
      "8\n",
      "9\n",
      "10\n"
     ]
    }
   ],
   "source": [
    "# it is used to skip that value\n",
    "for i in range(1, 11):\n",
    "    if i == 5:\n",
    "        continue\n",
    "    print(i)"
   ]
  },
  {
   "cell_type": "code",
   "execution_count": 100,
   "id": "c6cf10cc",
   "metadata": {},
   "outputs": [],
   "source": [
    "# pass\n",
    "for i in range(1 , 1000):\n",
    "    pass"
   ]
  },
  {
   "cell_type": "code",
   "execution_count": 103,
   "id": "6740d601",
   "metadata": {},
   "outputs": [],
   "source": [
    "# pass\n",
    "if True:\n",
    "    pass\n",
    "else:\n",
    "    pass"
   ]
  },
  {
   "cell_type": "markdown",
   "id": "58a5f37a",
   "metadata": {},
   "source": [
    "# while\n",
    "* counter\n",
    "* logic\n",
    "* loop body\n",
    "* increment/ decrement"
   ]
  },
  {
   "cell_type": "code",
   "execution_count": 110,
   "id": "c118929b",
   "metadata": {},
   "outputs": [
    {
     "name": "stdout",
     "output_type": "stream",
     "text": [
      "10 line\n",
      "9 line\n",
      "8 line\n",
      "7 line\n",
      "6 line\n",
      "5 line\n",
      "4 line\n",
      "3 line\n",
      "2 line\n",
      "1 line\n"
     ]
    }
   ],
   "source": [
    "counter = 10\n",
    "while counter > 0:\n",
    "    print(counter , 'line')\n",
    "    counter -= 1"
   ]
  },
  {
   "cell_type": "code",
   "execution_count": 114,
   "id": "316ac2fd",
   "metadata": {},
   "outputs": [
    {
     "name": "stdout",
     "output_type": "stream",
     "text": [
      "67\n"
     ]
    }
   ],
   "source": [
    "print(67)"
   ]
  },
  {
   "cell_type": "code",
   "execution_count": 117,
   "id": "cf4544ae",
   "metadata": {},
   "outputs": [
    {
     "name": "stdout",
     "output_type": "stream",
     "text": [
      "0 line\n",
      "1 line\n",
      "2 line\n",
      "3 line\n",
      "4 line\n",
      "5 line\n",
      "6 line\n",
      "7 line\n",
      "8 line\n",
      "9 line\n"
     ]
    }
   ],
   "source": [
    "counter = 0\n",
    "while counter < 10:\n",
    "    print(counter , 'line')\n",
    "    counter += 1"
   ]
  },
  {
   "cell_type": "code",
   "execution_count": 113,
   "id": "863c3d4e",
   "metadata": {},
   "outputs": [],
   "source": [
    "a = "
   ]
  },
  {
   "cell_type": "code",
   "execution_count": null,
   "id": "b9481485",
   "metadata": {},
   "outputs": [],
   "source": []
  }
 ],
 "metadata": {
  "kernelspec": {
   "display_name": "Python 3 (ipykernel)",
   "language": "python",
   "name": "python3"
  },
  "language_info": {
   "codemirror_mode": {
    "name": "ipython",
    "version": 3
   },
   "file_extension": ".py",
   "mimetype": "text/x-python",
   "name": "python",
   "nbconvert_exporter": "python",
   "pygments_lexer": "ipython3",
   "version": "3.9.13"
  }
 },
 "nbformat": 4,
 "nbformat_minor": 5
}
