{
 "cells": [
  {
   "cell_type": "markdown",
   "id": "b83bcdfc",
   "metadata": {},
   "source": [
    "# function\n",
    "* user define/pre_define function\n",
    "    * Return function\n",
    "    * Non- Return function\n",
    "    * Default\n",
    "    * required argument\n",
    "    * lamda function\n",
    "    * recursive function\n",
    "    * generator function\n",
    "* function components\n",
    "   * function declare/ function signature\n",
    "       * def function_name(arg1,arg2 .....):\n",
    "       \n",
    "   * function body\n",
    "   * function call\n",
    "        * function_name(arg1_value , arg2_value,.....)\n",
    "        * function_name()\n",
    "  "
   ]
  },
  {
   "cell_type": "markdown",
   "id": "895452c3",
   "metadata": {},
   "source": [
    "# default function\n",
    " * not required any argument when it call "
   ]
  },
  {
   "cell_type": "code",
   "execution_count": 27,
   "id": "e5175f4a",
   "metadata": {},
   "outputs": [
    {
     "name": "stdout",
     "output_type": "stream",
     "text": [
      "My country is pakistan\n",
      "pakistan is very beatiful\n",
      "pakistan zindabad\n",
      "\n",
      "\n",
      "My country is america\n",
      "america is very beatiful\n",
      "america zindabad\n",
      "\n",
      "\n",
      "My country is china\n",
      "china is very beatiful\n",
      "china zindabad\n"
     ]
    }
   ],
   "source": [
    "# Shift + tab se ik tab peeche or sirf tab se aage aa jata hn\n",
    "def country_message(country):\n",
    "    print(\"My country is \" + country)\n",
    "    print(country +\" is very beatiful\")  \n",
    "    print(country + \" zindabad\")\n",
    "\n",
    "country_message(\"pakistan\")\n",
    "print(\"\\n\")\n",
    "country_message(\"america\")\n",
    "print(\"\\n\")\n",
    "country_message(\"china\")"
   ]
  },
  {
   "cell_type": "code",
   "execution_count": 19,
   "id": "42fb952f",
   "metadata": {},
   "outputs": [
    {
     "name": "stdout",
     "output_type": "stream",
     "text": [
      "My country is pakitan\n",
      "Pakistan is very beatiful\n",
      "pakistan zindabad\n"
     ]
    }
   ],
   "source": [
    "country_message()"
   ]
  },
  {
   "cell_type": "markdown",
   "id": "e082182e",
   "metadata": {},
   "source": [
    "# Return and non return function\n",
    "* "
   ]
  },
  {
   "cell_type": "code",
   "execution_count": 30,
   "id": "c27ca91e",
   "metadata": {},
   "outputs": [
    {
     "name": "stdout",
     "output_type": "stream",
     "text": [
      "My country is pakistan\n",
      "pakistan is very beatiful\n",
      "pakistan zindabad\n",
      "value of variable a is= None\n"
     ]
    }
   ],
   "source": [
    "# Non- return function \n",
    "def country_message(country):\n",
    "    print(\"My country is \" + country)\n",
    "    print(country +\" is very beatiful\")  \n",
    "    print(country + \" zindabad\")\n",
    "\n",
    "a = country_message(\"pakistan\")\n",
    "print(\"value of variable a is=\" , a)"
   ]
  },
  {
   "cell_type": "markdown",
   "id": "57b16f84",
   "metadata": {},
   "source": [
    "# Return function"
   ]
  },
  {
   "cell_type": "code",
   "execution_count": 36,
   "id": "7e0fc965",
   "metadata": {},
   "outputs": [
    {
     "name": "stdout",
     "output_type": "stream",
     "text": [
      "\n",
      "    WE LOVE OUR COUNTRY\n",
      "    dubai zindabad\n",
      "    my country is dubai\n",
      "    \n",
      "\n",
      "    WE LOVE OUR COUNTRY\n",
      "    japan zindabad\n",
      "    my country is japan\n",
      "    \n",
      "\n",
      "    WE LOVE OUR COUNTRY\n",
      "    China zindabad\n",
      "    my country is China\n",
      "    \n"
     ]
    }
   ],
   "source": [
    "def country_name(country):\n",
    "    result = f\"\"\"\n",
    "    WE LOVE OUR COUNTRY\n",
    "    {country} zindabad\n",
    "    my country is {country}\n",
    "    \"\"\"\n",
    "    return result\n",
    "\n",
    "a = country_name(\"dubai\")\n",
    "b = country_name(\"japan\")\n",
    "c = country_name(\"China\")\n",
    "\n",
    "print(a)\n",
    "print(b)\n",
    "print(c)"
   ]
  },
  {
   "cell_type": "markdown",
   "id": "6566c877",
   "metadata": {},
   "source": [
    "# card"
   ]
  },
  {
   "cell_type": "code",
   "execution_count": 53,
   "id": "502cedef",
   "metadata": {},
   "outputs": [],
   "source": [
    "def student_card(roll_no , name , batch):\n",
    "    card = f\"\"\"SEYLANI STUDENT CARD\n",
    "    STUDENT NAME =\\t {name}\n",
    "    ROLL NUMBER = \\t {roll_no}\n",
    "    BATCH =       \\t {batch}\n",
    "    \"\"\"\n",
    "    return card\n",
    "\n"
   ]
  },
  {
   "cell_type": "code",
   "execution_count": 54,
   "id": "d2a98901",
   "metadata": {},
   "outputs": [
    {
     "name": "stdout",
     "output_type": "stream",
     "text": [
      "SEYLANI STUDENT CARD\n",
      "    STUDENT NAME =\t 81\n",
      "    ROLL NUMBER = \t zohair\n",
      "    BATCH =       \t 4\n",
      "    \n",
      "SEYLANI STUDENT CARD\n",
      "    STUDENT NAME =\t saad\n",
      "    ROLL NUMBER = \t 8\n",
      "    BATCH =       \t 79\n",
      "    \n",
      "SEYLANI STUDENT CARD\n",
      "    STUDENT NAME =\t fasih\n",
      "    ROLL NUMBER = \t 89\n",
      "    BATCH =       \t 6\n",
      "    \n"
     ]
    }
   ],
   "source": [
    "data = [{\"zohair\" , 81 , 4} ,\n",
    "       { \"saad\", 79 , 8},\n",
    "        {\"fasih\" , 89 , 6}]\n",
    "for i in data: \n",
    "    print(student_card(*i))\n",
    "    \n"
   ]
  },
  {
   "cell_type": "code",
   "execution_count": 70,
   "id": "2dfea184",
   "metadata": {},
   "outputs": [
    {
     "name": "stdout",
     "output_type": "stream",
     "text": [
      "Required positional argument num1 =  200 <class 'int'>\n",
      "positional default argument num2 =  7 <class 'int'>\n",
      "positional unlimited argument value =  () <class 'tuple'>\n",
      "key word unlimted argument dic1 =  {} <class 'dict'>\n"
     ]
    }
   ],
   "source": [
    "def my_custom_function(num1 , num2=7 , * value1 ,**dic1 ):\n",
    "    print(\"Required positional argument num1 = \" , num1 , type(num1))\n",
    "    print(\"positional default argument num2 = \" , num2 , type(num1))\n",
    "    print(\"positional unlimited argument value = \" , value1 , type(value1))  \n",
    "    print(\"key word unlimted argument dic1 = \" , dic1 , type(dic1))\n",
    "\n",
    "my_custom_function(200)"
   ]
  },
  {
   "cell_type": "code",
   "execution_count": 83,
   "id": "39dc1fde",
   "metadata": {},
   "outputs": [
    {
     "name": "stdout",
     "output_type": "stream",
     "text": [
      "Required positional argument num1 =  200 <class 'int'>\n",
      "positional default argument num2 =  7 <class 'int'>\n",
      "positional unlimited argument value =  ('hhh', 'jjj', 'jjza') <class 'tuple'>\n",
      "key word unlimted argument dic1 =  {'tea': 7, 'milk': 89} <class 'dict'>\n"
     ]
    }
   ],
   "source": [
    "def my_custom_function(num1 , num2='7 ', * value1 ,**dic1 ):\n",
    "    print(\"Required positional argument num1 = \" , num1 , type(num1))\n",
    "    print(\"positional default argument num2 = \" , num2 , type(num1))\n",
    "    print(\"positional unlimited argument value = \" , value1 , type(value1))  \n",
    "    print(\"key word unlimted argument dic1 = \" , dic1 , type(dic1))\n",
    "\n",
    "my_custom_function(200 ,'7' , \"hhh\" , \"jjj\" ,\"jjza\" , tea = 7 , milk = 89)"
   ]
  },
  {
   "cell_type": "code",
   "execution_count": 84,
   "id": "55ac1a57",
   "metadata": {},
   "outputs": [
    {
     "data": {
      "text/plain": [
       "16"
      ]
     },
     "execution_count": 84,
     "metadata": {},
     "output_type": "execute_result"
    }
   ],
   "source": [
    "a = lambda num1, num2 : num1 + num2 \n",
    "a(7,9)"
   ]
  },
  {
   "cell_type": "code",
   "execution_count": 90,
   "id": "d84efb58",
   "metadata": {},
   "outputs": [
    {
     "data": {
      "text/plain": [
       "5"
      ]
     },
     "execution_count": 90,
     "metadata": {},
     "output_type": "execute_result"
    }
   ],
   "source": [
    "a = lambda num1 , num2 : num1 + num2\n",
    "a(2 , 3)"
   ]
  },
  {
   "cell_type": "markdown",
   "id": "aa0ab6d5",
   "metadata": {},
   "source": [
    "# Generator Function"
   ]
  },
  {
   "cell_type": "code",
   "execution_count": null,
   "id": "11fc13c4",
   "metadata": {},
   "outputs": [],
   "source": []
  },
  {
   "cell_type": "code",
   "execution_count": null,
   "id": "c8209839",
   "metadata": {},
   "outputs": [],
   "source": []
  }
 ],
 "metadata": {
  "kernelspec": {
   "display_name": "Python 3 (ipykernel)",
   "language": "python",
   "name": "python3"
  },
  "language_info": {
   "codemirror_mode": {
    "name": "ipython",
    "version": 3
   },
   "file_extension": ".py",
   "mimetype": "text/x-python",
   "name": "python",
   "nbconvert_exporter": "python",
   "pygments_lexer": "ipython3",
   "version": "3.9.13"
  }
 },
 "nbformat": 4,
 "nbformat_minor": 5
}
