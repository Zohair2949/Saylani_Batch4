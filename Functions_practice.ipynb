{
 "cells": [
  {
   "cell_type": "markdown",
   "id": "37f86dfc",
   "metadata": {},
   "source": [
    "# Default function"
   ]
  },
  {
   "cell_type": "code",
   "execution_count": 9,
   "id": "d745104e",
   "metadata": {},
   "outputs": [
    {
     "name": "stdout",
     "output_type": "stream",
     "text": [
      "ZAID\n",
      "ZOHAIR\n",
      "SAIF\n",
      "UBAID\n",
      "\n",
      "\n",
      "AAFZAL\n",
      "WAQAS\n",
      "TIPU\n",
      "HARIS\n",
      "SAQIB\n"
     ]
    }
   ],
   "source": [
    "def friend_list():\n",
    "    print(\"ZAID\")\n",
    "    print(\"ZOHAIR\")\n",
    "    print(\"SAIF\")\n",
    "    print(\"UBAID\")\n",
    "\n",
    "def notfriend_list():\n",
    "    print(\"AAFZAL\")\n",
    "    print(\"WAQAS\")\n",
    "    print(\"TIPU\")    \n",
    "    print(\"HARIS\")    \n",
    "    print(\"SAQIB\")\n",
    "\n",
    "friend_list()\n",
    "print(\"\\n\")\n",
    "notfriend_list()"
   ]
  },
  {
   "cell_type": "markdown",
   "id": "62809748",
   "metadata": {},
   "source": [
    "# creating a parameter "
   ]
  },
  {
   "cell_type": "code",
   "execution_count": 15,
   "id": "25bb92f1",
   "metadata": {},
   "outputs": [
    {
     "name": "stdout",
     "output_type": "stream",
     "text": [
      "My name is Zohair\n",
      "Zohair is student of Sir Qasim\n",
      "Zohair is Batch 04 student\n",
      "\n",
      "\n",
      "My name is Ali\n",
      "Ali is student of Sir Qasim\n",
      "Ali is Batch 04 student\n",
      "\n",
      "\n",
      "My name is Sohail\n",
      "Sohail is student of Sir Qasim\n",
      "Sohail is Batch 04 student\n"
     ]
    }
   ],
   "source": [
    "def card(student_name):\n",
    "    print(f\"My name is {student_name}\")\n",
    "    print(f\"{student_name} is student of Sir Qasim\")\n",
    "    print(f\"{student_name} is Batch 04 student\")\n",
    "    \n",
    "card(\"Zohair\")\n",
    "print(\"\\n\")\n",
    "card(\"Ali\")\n",
    "print(\"\\n\")\n",
    "card(\"Sohail\")\n",
    "\n",
    "# agar hum print(card(student_name) likhenge to ye hoga k wo print krne k baad none retuen karega )"
   ]
  },
  {
   "cell_type": "code",
   "execution_count": 18,
   "id": "34259444",
   "metadata": {},
   "outputs": [
    {
     "name": "stdout",
     "output_type": "stream",
     "text": [
      "My name is Zohair\n",
      "Zohair is student of Sir Qasim\n",
      "Zohair is Batch 04 student\n",
      "My name is Ali\n",
      "Ali is student of Sir Qasim\n",
      "Ali is Batch 04 student\n",
      "My name is Sohail\n",
      "Sohail is student of Sir Qasim\n",
      "Sohail is Batch 04 student\n",
      "None\n"
     ]
    }
   ],
   "source": [
    "def card(student_name):\n",
    "    print(f\"My name is {student_name}\")\n",
    "    print(f\"{student_name} is student of Sir Qasim\")\n",
    "    print(f\"{student_name} is Batch 04 student\")\n",
    "    \n",
    "a = card(\"Zohair\")\n",
    "b = card(\"Ali\")\n",
    "c = card(\"Sohail\")\n",
    "print(a)\n",
    "\n",
    "# ye print(a) none return is lye karega q k a value store nhi howe hn na koi value us me return howe hn"
   ]
  },
  {
   "cell_type": "code",
   "execution_count": 47,
   "id": "c810e33c",
   "metadata": {},
   "outputs": [],
   "source": [
    "def card(student_name):\n",
    "    details = (f\"\"\"\n",
    "    My name is {student_name}\n",
    "    {student_name} is student of Sir Qasim\n",
    "    {student_name} is Batch 04 student\n",
    "    \"\"\")\n",
    "    \n",
    "    return details\n",
    "a = card(\"Zohair\")\n",
    "b = card(\"Ali\")\n",
    "c = card(\"waqas\")\n",
    "d = card(\"farrukh\")\n",
    "e = card(\"sameer\")\n",
    "f = card(\"aliyan\")"
   ]
  },
  {
   "cell_type": "code",
   "execution_count": 49,
   "id": "18c3f116",
   "metadata": {},
   "outputs": [
    {
     "name": "stdout",
     "output_type": "stream",
     "text": [
      "\n",
      "    My name is Zohair\n",
      "    Zohair is student of Sir Qasim\n",
      "    Zohair is Batch 04 student\n",
      "    \n",
      "\n",
      "    My name is Ali\n",
      "    Ali is student of Sir Qasim\n",
      "    Ali is Batch 04 student\n",
      "    \n",
      "\n",
      "    My name is waqas\n",
      "    waqas is student of Sir Qasim\n",
      "    waqas is Batch 04 student\n",
      "    \n",
      "\n",
      "    My name is farrukh\n",
      "    farrukh is student of Sir Qasim\n",
      "    farrukh is Batch 04 student\n",
      "    \n",
      "\n",
      "    My name is sameer\n",
      "    sameer is student of Sir Qasim\n",
      "    sameer is Batch 04 student\n",
      "    \n",
      "\n",
      "    My name is aliyan\n",
      "    aliyan is student of Sir Qasim\n",
      "    aliyan is Batch 04 student\n",
      "    \n"
     ]
    }
   ],
   "source": [
    "print(a)\n",
    "print(b)\n",
    "print(c)\n",
    "print(d)\n",
    "print(e)\n",
    "print(f)"
   ]
  },
  {
   "cell_type": "code",
   "execution_count": 50,
   "id": "a6ee78e4",
   "metadata": {},
   "outputs": [],
   "source": [
    "# for printing a length\n",
    "\n",
    "def card(student_name):\n",
    "    details = (f\"\"\"\n",
    "    My name is {student_name}\n",
    "    {student_name} is student of Sir Qasim\n",
    "    {student_name} is Batch 04 student\n",
    "    \"\"\")\n",
    "    \n",
    "    return details\n",
    "a = len(card(\"Zohair\"))\n",
    "b = len(card(\"Ali\"))\n",
    "c = len(card(\"waqas\"))\n",
    "d = len(card(\"farrukh\"))\n",
    "e = len(card(\"sameer\"))\n",
    "f = len(card(\"aliyan\"))"
   ]
  },
  {
   "cell_type": "code",
   "execution_count": 51,
   "id": "55ea7908",
   "metadata": {},
   "outputs": [
    {
     "name": "stdout",
     "output_type": "stream",
     "text": [
      "93\n",
      "84\n",
      "90\n",
      "96\n",
      "93\n",
      "93\n"
     ]
    }
   ],
   "source": [
    "print(a)\n",
    "print(b)\n",
    "print(c)\n",
    "print(d)\n",
    "print(e)\n",
    "print(f)"
   ]
  },
  {
   "cell_type": "markdown",
   "id": "6a1c74c2",
   "metadata": {},
   "source": [
    "# Printing multi arguments"
   ]
  },
  {
   "cell_type": "code",
   "execution_count": 56,
   "id": "6b1dc563",
   "metadata": {},
   "outputs": [
    {
     "name": "stdout",
     "output_type": "stream",
     "text": [
      "\n",
      "    Student Name : Muhammad Zohair\n",
      "    Roll No      : 120118\n",
      "    Batch No     : 4\n",
      "    Days         : Tuesday and Friday\n",
      "    Timmings     : 7PM TO 10PM\n",
      "    \n",
      "\n",
      "    Student Name : Muhammad Saad\n",
      "    Roll No      : 120119\n",
      "    Batch No     : 5\n",
      "    Days         : Wednesday and Sunday\n",
      "    Timmings     : 5PM TO 8PM\n",
      "    \n",
      "\n",
      "    Student Name : Muhammad Arham\n",
      "    Roll No      : 120128\n",
      "    Batch No     : 6\n",
      "    Days         : Tuesday and Sunday\n",
      "    Timmings     : 9PM TO 12PM\n",
      "    \n",
      "\n",
      "    Student Name : Muhammad Ali\n",
      "    Roll No      : 120138\n",
      "    Batch No     : 6\n",
      "    Days         : Monday and Tuesday\n",
      "    Timmings     : 9PM TO 11PM\n",
      "    \n"
     ]
    }
   ],
   "source": [
    "def uni_card(student_name , roll_no , batch , days , time):\n",
    "    detail_uni_card = f\"\"\"\n",
    "    Student Name : {student_name}\n",
    "    Roll No      : {roll_no}\n",
    "    Batch No     : {batch}\n",
    "    Days         : {days}\n",
    "    Timmings     : {time}\n",
    "    \"\"\"\n",
    "    return detail_uni_card\n",
    "\n",
    "Student1 = uni_card(\"Muhammad Zohair\" , 120118 , 4  , \"Tuesday and Friday\" , \"7PM TO 10PM\" )\n",
    "Student2 = uni_card(\"Muhammad Saad\" , 120119 , 5  , \"Wednesday and Sunday\" , \"5PM TO 8PM\" )\n",
    "Student3 = uni_card(\"Muhammad Arham\" , 120128 , 6  , \"Tuesday and Sunday\" , \"9PM TO 12PM\" )\n",
    "Student4 = uni_card(\"Muhammad Ali\" , 120138 , 6  , \"Monday and Tuesday\" , \"9PM TO 11PM\" )\n",
    "print(Student1)\n",
    "print(Student2)\n",
    "print(Student3)\n",
    "print(Student4)"
   ]
  },
  {
   "cell_type": "markdown",
   "id": "f43e4c2f",
   "metadata": {},
   "source": [
    "# NOW PRINTING SAME CARDS WITH THE HELP OF DATABASE OR DATA LISTING"
   ]
  },
  {
   "cell_type": "code",
   "execution_count": 80,
   "id": "8e846570",
   "metadata": {},
   "outputs": [
    {
     "name": "stdout",
     "output_type": "stream",
     "text": [
      "[['Muhammad Zohair', 120118, 4, 'Tuesday and Friday', '7PM TO 10PM'], ['Muhammad Saad', 120119, 5, 'Wednesday and Sunday', '5PM TO 8PM'], ['Muhammad Arham', 120128, 6, 'Tuesday and Sunday', '9PM TO 12PM'], ['Muhammad Ali', 120108, 8, 'Thursday and Sunday', '1PM TO 4PM'], ['Muhammad Armash', 120228, 1, 'Monday and Sunday', '5PM TO 10PM'], ['Muhammad Afaq', 120908, 3, 'wednesday and Sunday', '4PM TO 8PM']]\n"
     ]
    }
   ],
   "source": [
    "data =  [\n",
    "    [\"Muhammad Zohair\" , 120118 , 4  , \"Tuesday and Friday\" , \"7PM TO 10PM\"],\n",
    "    [\"Muhammad Saad\" , 120119 , 5  , \"Wednesday and Sunday\" , \"5PM TO 8PM\"],\n",
    "    [\"Muhammad Arham\" , 120128 , 6  , \"Tuesday and Sunday\" , \"9PM TO 12PM\"],\n",
    "    [\"Muhammad Ali\" , 120108 , 8  , \"Thursday and Sunday\" , \"1PM TO 4PM\"],\n",
    "    [\"Muhammad Armash\" , 120228 , 1  , \"Monday and Sunday\" , \"5PM TO 10PM\"],\n",
    "    [\"Muhammad Afaq\" , 120908 , 3  , \"wednesday and Sunday\" , \"4PM TO 8PM\"]\n",
    "    ]\n",
    "print(data)"
   ]
  },
  {
   "cell_type": "code",
   "execution_count": 81,
   "id": "7a3db943",
   "metadata": {},
   "outputs": [
    {
     "name": "stdout",
     "output_type": "stream",
     "text": [
      "\n",
      "    Student Name : Muhammad Zohair\n",
      "    Roll No      : 120118\n",
      "    Batch No     : 4\n",
      "    Days         : Tuesday and Friday\n",
      "    Timmings     : 7PM TO 10PM\n",
      "    \n",
      "\n",
      "    Student Name : Muhammad Saad\n",
      "    Roll No      : 120119\n",
      "    Batch No     : 5\n",
      "    Days         : Wednesday and Sunday\n",
      "    Timmings     : 5PM TO 8PM\n",
      "    \n",
      "\n",
      "    Student Name : Muhammad Arham\n",
      "    Roll No      : 120128\n",
      "    Batch No     : 6\n",
      "    Days         : Tuesday and Sunday\n",
      "    Timmings     : 9PM TO 12PM\n",
      "    \n",
      "\n",
      "    Student Name : Muhammad Ali\n",
      "    Roll No      : 120108\n",
      "    Batch No     : 8\n",
      "    Days         : Thursday and Sunday\n",
      "    Timmings     : 1PM TO 4PM\n",
      "    \n",
      "\n",
      "    Student Name : Muhammad Armash\n",
      "    Roll No      : 120228\n",
      "    Batch No     : 1\n",
      "    Days         : Monday and Sunday\n",
      "    Timmings     : 5PM TO 10PM\n",
      "    \n",
      "\n",
      "    Student Name : Muhammad Afaq\n",
      "    Roll No      : 120908\n",
      "    Batch No     : 3\n",
      "    Days         : wednesday and Sunday\n",
      "    Timmings     : 4PM TO 8PM\n",
      "    \n"
     ]
    }
   ],
   "source": [
    "for card in data:\n",
    "    print(uni_card(card[0],card[1], card[2], card[3] , card[4]))"
   ]
  },
  {
   "cell_type": "code",
   "execution_count": 82,
   "id": "a60d1de1",
   "metadata": {},
   "outputs": [
    {
     "name": "stdout",
     "output_type": "stream",
     "text": [
      "\n",
      "    Student Name : 120118\n",
      "    Roll No      : Muhammad Zohair\n",
      "    Batch No     : Tuesday and Friday\n",
      "    Days         : 7PM TO 10PM\n",
      "    Timmings     : 4\n",
      "    \n",
      "\n",
      "    Student Name : 120119\n",
      "    Roll No      : Muhammad Saad\n",
      "    Batch No     : Wednesday and Sunday\n",
      "    Days         : 5PM TO 8PM\n",
      "    Timmings     : 5\n",
      "    \n",
      "\n",
      "    Student Name : 120128\n",
      "    Roll No      : Muhammad Arham\n",
      "    Batch No     : Tuesday and Sunday\n",
      "    Days         : 9PM TO 12PM\n",
      "    Timmings     : 6\n",
      "    \n",
      "\n",
      "    Student Name : 120108\n",
      "    Roll No      : Muhammad Ali\n",
      "    Batch No     : Thursday and Sunday\n",
      "    Days         : 1PM TO 4PM\n",
      "    Timmings     : 8\n",
      "    \n",
      "\n",
      "    Student Name : 120228\n",
      "    Roll No      : Muhammad Armash\n",
      "    Batch No     : Monday and Sunday\n",
      "    Days         : 5PM TO 10PM\n",
      "    Timmings     : 1\n",
      "    \n",
      "\n",
      "    Student Name : 120908\n",
      "    Roll No      : Muhammad Afaq\n",
      "    Batch No     : wednesday and Sunday\n",
      "    Days         : 4PM TO 8PM\n",
      "    Timmings     : 3\n",
      "    \n"
     ]
    }
   ],
   "source": [
    "for card in data:\n",
    "    print(uni_card(card[1] ,card[0] ,  card[3] , card[4] , card[2]))\n",
    "    pass\n",
    "# keep in these do not write wrong index number because it will destroy ypur data information"
   ]
  },
  {
   "cell_type": "code",
   "execution_count": 83,
   "id": "564b6ecb",
   "metadata": {},
   "outputs": [
    {
     "name": "stdout",
     "output_type": "stream",
     "text": [
      "\n",
      "    Student Name : Muhammad Zohair\n",
      "    Roll No      : 120118\n",
      "    Batch No     : 4\n",
      "    Days         : Tuesday and Friday\n",
      "    Timmings     : 7PM TO 10PM\n",
      "    \n",
      "\n",
      "    Student Name : Muhammad Saad\n",
      "    Roll No      : 120119\n",
      "    Batch No     : 5\n",
      "    Days         : Wednesday and Sunday\n",
      "    Timmings     : 5PM TO 8PM\n",
      "    \n",
      "\n",
      "    Student Name : Muhammad Arham\n",
      "    Roll No      : 120128\n",
      "    Batch No     : 6\n",
      "    Days         : Tuesday and Sunday\n",
      "    Timmings     : 9PM TO 12PM\n",
      "    \n",
      "\n",
      "    Student Name : Muhammad Ali\n",
      "    Roll No      : 120108\n",
      "    Batch No     : 8\n",
      "    Days         : Thursday and Sunday\n",
      "    Timmings     : 1PM TO 4PM\n",
      "    \n",
      "\n",
      "    Student Name : Muhammad Armash\n",
      "    Roll No      : 120228\n",
      "    Batch No     : 1\n",
      "    Days         : Monday and Sunday\n",
      "    Timmings     : 5PM TO 10PM\n",
      "    \n",
      "\n",
      "    Student Name : Muhammad Afaq\n",
      "    Roll No      : 120908\n",
      "    Batch No     : 3\n",
      "    Days         : wednesday and Sunday\n",
      "    Timmings     : 4PM TO 8PM\n",
      "    \n"
     ]
    }
   ],
   "source": [
    "for card in data:\n",
    "    print(uni_card(*card))\n",
    "# it is more efficent because in this we cant use indexing"
   ]
  },
  {
   "cell_type": "markdown",
   "id": "278fc200",
   "metadata": {},
   "source": [
    "# Optional parameter/default parameters value function"
   ]
  },
  {
   "cell_type": "code",
   "execution_count": 95,
   "id": "06836d5e",
   "metadata": {},
   "outputs": [
    {
     "name": "stdout",
     "output_type": "stream",
     "text": [
      "Enter a number3\n",
      "Enter a number3\n",
      "9\n"
     ]
    }
   ],
   "source": [
    "num1 = int(input(\"Enter a number\"))\n",
    "num2 = int(input(\"Enter a number\"))\n",
    "\n",
    "def add_number(num1 , num2):\n",
    "    return num1 * num2\n",
    "\n",
    "a = add_number(num1 , num2)\n",
    "print(a)"
   ]
  },
  {
   "cell_type": "code",
   "execution_count": 96,
   "id": "128f18e9",
   "metadata": {},
   "outputs": [
    {
     "data": {
      "text/plain": [
       "8"
      ]
     },
     "execution_count": 96,
     "metadata": {},
     "output_type": "execute_result"
    }
   ],
   "source": [
    "def add_number(num11 , num22):\n",
    "    return num11 + num22\n",
    "\n",
    "add_number(3 ,5)"
   ]
  },
  {
   "cell_type": "code",
   "execution_count": 100,
   "id": "29ec4850",
   "metadata": {},
   "outputs": [
    {
     "data": {
      "text/plain": [
       "9"
      ]
     },
     "execution_count": 100,
     "metadata": {},
     "output_type": "execute_result"
    }
   ],
   "source": [
    "add_number(4  , 5 )"
   ]
  },
  {
   "cell_type": "code",
   "execution_count": 109,
   "id": "6a6cc19d",
   "metadata": {},
   "outputs": [
    {
     "data": {
      "text/plain": [
       "8"
      ]
     },
     "execution_count": 109,
     "metadata": {},
     "output_type": "execute_result"
    }
   ],
   "source": [
    "def add_number(num11 = 2 , num22 = 6):\n",
    "    return num11 + num22\n",
    "add_number()"
   ]
  },
  {
   "cell_type": "code",
   "execution_count": 104,
   "id": "959e01e7",
   "metadata": {},
   "outputs": [
    {
     "data": {
      "text/plain": [
       "6"
      ]
     },
     "execution_count": 104,
     "metadata": {},
     "output_type": "execute_result"
    }
   ],
   "source": [
    "add_number( 2 , 4)"
   ]
  },
  {
   "cell_type": "code",
   "execution_count": 106,
   "id": "c8ef2f3d",
   "metadata": {},
   "outputs": [
    {
     "data": {
      "text/plain": [
       "11"
      ]
     },
     "execution_count": 106,
     "metadata": {},
     "output_type": "execute_result"
    }
   ],
   "source": [
    "add_number( 5 , )"
   ]
  },
  {
   "cell_type": "code",
   "execution_count": 16,
   "id": "738db2ed",
   "metadata": {},
   "outputs": [
    {
     "name": "stdout",
     "output_type": "stream",
     "text": [
      "3 (2, 3, 'zohair', 3)\n",
      "<class 'int'> <class 'tuple'>\n",
      "3\n"
     ]
    }
   ],
   "source": [
    "def my_sum(num1 , *value):\n",
    "    print(num1 , value)\n",
    "    print(type(num1) , type(value)) \n",
    "    for n in value:\n",
    "         num1 == n\n",
    "    return num1\n",
    "\n",
    "print(my_sum(3 ,2 ,3 ,\"zohair\",3))"
   ]
  },
  {
   "cell_type": "code",
   "execution_count": 11,
   "id": "e628f7d8",
   "metadata": {},
   "outputs": [
    {
     "name": "stdout",
     "output_type": "stream",
     "text": [
      "3 (3, 4, 5, 5, 53)\n"
     ]
    },
    {
     "data": {
      "text/plain": [
       "73"
      ]
     },
     "execution_count": 11,
     "metadata": {},
     "output_type": "execute_result"
    }
   ],
   "source": [
    "def my_sum(numb1 , *numb2):\n",
    "    print(numb1 , numb2)\n",
    "    result = numb1\n",
    "    for n in numb2:\n",
    "        result += n\n",
    "    return result\n",
    "my_sum(3 ,3 ,4 ,5 ,5 ,53)"
   ]
  },
  {
   "cell_type": "code",
   "execution_count": 25,
   "id": "521a6dcd",
   "metadata": {},
   "outputs": [
    {
     "name": "stdout",
     "output_type": "stream",
     "text": [
      "{'Name': 'Muhammad Zohair', 'DOB': -1983, 'Age': 22}\n",
      "{'Name': 'Muhammad Saad', 'DOB': -1987, 'Age': 19}\n",
      "{'Name': 'Muhammad Bilal', 'DOB': -1976, 'Age': 20}\n"
     ]
    }
   ],
   "source": [
    "def my_details(**details):\n",
    "    \n",
    "    return details\n",
    "\n",
    "a = my_details(Name = \"Muhammad Zohair\" , DOB = 25-8-2000 , Age = 22)\n",
    "b =my_details(Name = \"Muhammad Saad\" , DOB = 20-4-2003 , Age = 19)\n",
    "c= my_details(Name = \"Muhammad Bilal\" , DOB = 31-5-2002 , Age = 20)\n",
    "d= my_details(Name = \"Muhammad Khurrum\" , DOB = 12-3-2001 , Age = 21)\n",
    "\n",
    "print(a)\n",
    "print(b)\n",
    "print(c)"
   ]
  },
  {
   "cell_type": "code",
   "execution_count": 46,
   "id": "785ff325",
   "metadata": {},
   "outputs": [
    {
     "name": "stdout",
     "output_type": "stream",
     "text": [
      "Required positioanl Argument in Name =  Muhammad Zohair <class 'str'>\n",
      "Positional defual parameter value argument in Gender=  Male <class 'str'>\n",
      "postional ulimited arguments in skills =  ('Python', 'java', 'html', 'css') <class 'tuple'>\n",
      "key/word ulimited arguments in expericence =  {'PYTHON': '1 year', 'java': '2 year'} <class 'dict'>\n",
      "\n",
      "\n",
      "Required positioanl Argument in Name =  Muhammad saad <class 'str'>\n",
      "Positional defual parameter value argument in Gender=  female <class 'str'>\n",
      "postional ulimited arguments in skills =  ('Python', 'java') <class 'tuple'>\n",
      "key/word ulimited arguments in expericence =  {'PYTHON': '3 year', 'java': '5 year'} <class 'dict'>\n",
      "\n",
      "\n",
      "Required positioanl Argument in Name =  Muhammad Zohair <class 'str'>\n",
      "Positional defual parameter value argument in Gender=  Male <class 'str'>\n",
      "postional ulimited arguments in skills =  ('java', 'html', 'css') <class 'tuple'>\n",
      "key/word ulimited arguments in expericence =  {'PYTHON': '0 year', 'java': '1 year'} <class 'dict'>\n"
     ]
    }
   ],
   "source": [
    "def my_function(name , Gender='none' , *skills , **skills_expericence):\n",
    "    print(\"Required positioanl Argument in Name = \", name, type(name))\n",
    "    print(\"Positional defual parameter value argument in Gender= \", Gender, type(Gender))\n",
    "    print(\"postional ulimited arguments in skills = \", skills, type(skills))\n",
    "    print(\"key/word ulimited arguments in expericence = \", skills_expericence, type(skills_expericence))\n",
    "\n",
    "my_function(\"Muhammad Zohair\" , \"Male\" , \"Python\" , \"java\" , \"html\" , \"css\" , PYTHON ='1 year' , java = '2 year')\n",
    "print(\"\\n\")\n",
    "my_function(\"Muhammad saad\" , \"female\" , \"Python\" , \"java\" ,  PYTHON ='3 year' , java = '5 year')\n",
    "print(\"\\n\")\n",
    "my_function(\"Muhammad Zohair\" , \"Male\"  , \"java\" , \"html\" , \"css\" , PYTHON ='0 year' , java = '1 year')"
   ]
  },
  {
   "cell_type": "code",
   "execution_count": 52,
   "id": "0ad12451",
   "metadata": {},
   "outputs": [
    {
     "name": "stdout",
     "output_type": "stream",
     "text": [
      "Muhammad Zohair\n",
      "Male\n",
      "('Python', 'java', 'html', 'css')\n",
      "{'PYTHON': '1 year', 'java': '2 year'}\n",
      "\n",
      "\n",
      "Muhammad saad\n",
      "female\n",
      "('Python', 'java')\n",
      "{'PYTHON': '3 year', 'java': '5 year'}\n",
      "\n",
      "\n",
      "Muhammad Zohair\n",
      "Male\n",
      "('java', 'html', 'css')\n",
      "{'PYTHON': '0 year', 'java': '1 year'}\n"
     ]
    }
   ],
   "source": [
    "def my_function(name , Gender='none' , *skills , **skills_expericence):\n",
    "    print(name)\n",
    "    print(Gender)\n",
    "    print(skills)\n",
    "    print(skills_expericence)\n",
    "\n",
    "my_function(\"Muhammad Zohair\" , \"Male\" , \"Python\" , \"java\" , \"html\" , \"css\" , PYTHON ='1 year' , java = '2 year')\n",
    "print(\"\\n\")\n",
    "my_function(\"Muhammad saad\" , \"female\" , \"Python\" , \"java\" ,  PYTHON ='3 year' , java = '5 year')\n",
    "print(\"\\n\")\n",
    "my_function(\"Muhammad Zohair\" , \"Male\"  , \"java\" , \"html\" , \"css\" , PYTHON ='0 year' , java = '1 year')"
   ]
  },
  {
   "cell_type": "code",
   "execution_count": 73,
   "id": "ec375682",
   "metadata": {},
   "outputs": [
    {
     "name": "stdout",
     "output_type": "stream",
     "text": [
      "\n",
      "    Student Name = Zohair\n",
      "    Roll No = 2949\n",
      "    Skills = \n",
      "    \n",
      "java\n",
      "pyhthon\n",
      "html \n"
     ]
    }
   ],
   "source": [
    "def student_card(name , roll_no , *skills):\n",
    "    card = print(f\"\"\"\n",
    "    Student Name = {name}\n",
    "    Roll No = {roll_no}\n",
    "    Skills = \n",
    "    \"\"\")\n",
    "    for skill in skills:\n",
    "        print(skill)\n",
    "\n",
    "student_card(\"Zohair\" , 2949 , \"java\" , \"pyhthon\" , \"html \")\n",
    "      \n"
   ]
  },
  {
   "cell_type": "code",
   "execution_count": 74,
   "id": "2ab74d52",
   "metadata": {},
   "outputs": [
    {
     "name": "stdout",
     "output_type": "stream",
     "text": [
      "Student Name =  Zohair\n",
      "Roll No = 2949\n",
      "Skills =\n",
      "\t java\n",
      "\t pyhthon\n",
      "\t html \n"
     ]
    }
   ],
   "source": [
    "def student_card(name , roll_no , *skills):\n",
    "    print(\"Student Name = \" , name)\n",
    "    print(\"Roll No =\" , roll_no)\n",
    "    print(\"Skills =\", )\n",
    "    for s in skills:\n",
    "        print(\"\\t\" , s )\n",
    "\n",
    "        \n",
    "student_card(\"Zohair\" , 2949 , 'java' , \"pyhthon\" , \"html \")\n",
    "      "
   ]
  },
  {
   "cell_type": "code",
   "execution_count": 71,
   "id": "cca8754c",
   "metadata": {},
   "outputs": [
    {
     "name": "stdout",
     "output_type": "stream",
     "text": [
      "Student Roll no: 1\n",
      "Student Name: Muhammad Qasim\n",
      "Skills:\n",
      "\t python\n",
      "\t java\n",
      "\t typescript\n",
      "\t solidity\n"
     ]
    }
   ],
   "source": [
    "def std_card(roll_no, name, *skills):\n",
    "    print(\"Student Roll no:\", roll_no)\n",
    "    print(\"Student Name:\", name)\n",
    "    print(\"Skills:\")\n",
    "    for s in skills:\n",
    "        print(\"\\t\",s)\n",
    "\n",
    "std_card(1,\"Muhammad Qasim\", \"python\",'java','typescript','solidity')"
   ]
  },
  {
   "cell_type": "code",
   "execution_count": 77,
   "id": "fdb5328d",
   "metadata": {},
   "outputs": [
    {
     "name": "stdout",
     "output_type": "stream",
     "text": [
      "Zohair 2949\n"
     ]
    }
   ],
   "source": [
    "student = lambda name , ids : print(name , ids)\n",
    "student(\"Zohair\" , 2949)"
   ]
  },
  {
   "cell_type": "code",
   "execution_count": 80,
   "id": "42ecf8a1",
   "metadata": {},
   "outputs": [
    {
     "data": {
      "text/plain": [
       "250"
      ]
     },
     "execution_count": 80,
     "metadata": {},
     "output_type": "execute_result"
    }
   ],
   "source": [
    "a = lambda num1 , num2: num1 + num2\n",
    "a(247 ,3)"
   ]
  },
  {
   "cell_type": "code",
   "execution_count": 82,
   "id": "849b8306",
   "metadata": {},
   "outputs": [
    {
     "data": {
      "text/plain": [
       "75"
      ]
     },
     "execution_count": 82,
     "metadata": {},
     "output_type": "execute_result"
    }
   ],
   "source": [
    "a(72 ,3)"
   ]
  },
  {
   "cell_type": "code",
   "execution_count": 83,
   "id": "3301972a",
   "metadata": {},
   "outputs": [
    {
     "data": {
      "text/plain": [
       "5"
      ]
     },
     "execution_count": 83,
     "metadata": {},
     "output_type": "execute_result"
    }
   ],
   "source": [
    "a(2 ,3)"
   ]
  },
  {
   "cell_type": "code",
   "execution_count": 84,
   "id": "96e49aee",
   "metadata": {},
   "outputs": [
    {
     "data": {
      "text/plain": [
       "[[1, 'a', 'Z'], [2, 'y', 'Y'], [3, 'e', 'X']]"
      ]
     },
     "execution_count": 84,
     "metadata": {},
     "output_type": "execute_result"
    }
   ],
   "source": [
    "l = [[1,'a','Z'],\n",
    "    [2,'y','Y'],\n",
    "    [3,'e',\"X\"]]\n",
    "l"
   ]
  },
  {
   "cell_type": "code",
   "execution_count": 85,
   "id": "8a2f3be6",
   "metadata": {},
   "outputs": [
    {
     "data": {
      "text/plain": [
       "[[3, 'e', 'X'], [2, 'y', 'Y'], [1, 'a', 'Z']]"
      ]
     },
     "execution_count": 85,
     "metadata": {},
     "output_type": "execute_result"
    }
   ],
   "source": [
    "sorted(l , key = lambda x :x[2])"
   ]
  },
  {
   "cell_type": "code",
   "execution_count": 1,
   "id": "801fd692",
   "metadata": {},
   "outputs": [
    {
     "name": "stdout",
     "output_type": "stream",
     "text": [
      "{'Charlie': 20, 'Alice': 25, 'Bob': 30, 'David': 40}\n"
     ]
    }
   ],
   "source": [
    " d = {\"Alice\": 25, \"Bob\": 30, \"Charlie\": 20, \"David\": 40}\n",
    "\n",
    "sorted_dict = dict(sorted(d.items(), key=lambda x: x[1]))\n",
    "\n",
    "print(sorted_dict)"
   ]
  },
  {
   "cell_type": "code",
   "execution_count": 110,
   "id": "c8ddecb1",
   "metadata": {},
   "outputs": [
    {
     "name": "stdout",
     "output_type": "stream",
     "text": [
      "1\n",
      "3\n",
      "5\n",
      "7\n",
      "9\n",
      "11\n",
      "13\n",
      "15\n",
      "17\n",
      "19\n"
     ]
    }
   ],
   "source": [
    "def function(n):\n",
    "    for i in range(n):\n",
    "        if i % 2 == 1:\n",
    "            yield i\n",
    "for z in function(20):\n",
    "    print(z)\n"
   ]
  },
  {
   "cell_type": "code",
   "execution_count": 10,
   "id": "d7a39881",
   "metadata": {},
   "outputs": [
    {
     "name": "stdout",
     "output_type": "stream",
     "text": [
      "2\n",
      "3\n",
      "4\n",
      "5\n",
      "6\n",
      "7\n",
      "8\n"
     ]
    }
   ],
   "source": [
    "def func(start , end):\n",
    "    for i in range(start , end+1):\n",
    "        yield i\n",
    "a =func(2 ,8)\n",
    "\n",
    "print(next(a))\n",
    "print(next(a))\n",
    "print(next(a))\n",
    "print(next(a))\n",
    "print(next(a))\n",
    "print(next(a))\n",
    "print(next(a))\n"
   ]
  },
  {
   "cell_type": "code",
   "execution_count": 4,
   "id": "69d95970",
   "metadata": {},
   "outputs": [
    {
     "name": "stdout",
     "output_type": "stream",
     "text": [
      "2023 year\n",
      "2022 year\n",
      "2021 year\n",
      "2020 year\n",
      "2019 year\n",
      "2018 year\n",
      "2017 year\n",
      "2016 year\n",
      "2015 year\n",
      "2014 year\n",
      "2013 year\n",
      "2012 year\n",
      "2011 year\n",
      "2010 year\n",
      "2009 year\n",
      "2008 year\n",
      "2007 year\n",
      "2006 year\n",
      "2005 year\n",
      "2004 year\n",
      "2003 year\n",
      "2002 year\n",
      "2001 year\n"
     ]
    }
   ],
   "source": [
    "counter = 2023\n",
    "while counter > 2000:\n",
    "    print(counter , \"year\")\n",
    "    counter -=1\n",
    "    "
   ]
  },
  {
   "cell_type": "code",
   "execution_count": 9,
   "id": "9364c52a",
   "metadata": {},
   "outputs": [
    {
     "name": "stdout",
     "output_type": "stream",
     "text": [
      "Enter a roll no2\n",
      "Student name2\n",
      "sKILLSS2\n",
      "Student Roll no: 2\n",
      "Student Name: 2\n",
      "Skills:\n",
      "\t 2\n"
     ]
    }
   ],
   "source": [
    "def std_card(roll_no, name, *skills):\n",
    "    print(\"Student Roll no:\", roll_no)\n",
    "    print(\"Student Name:\", name)\n",
    "    print(\"Skills:\")\n",
    "    for s in skills:\n",
    "        print(\"\\t\",s)\n",
    "\n",
    "std_card(int(input(\"Enter a roll no\")) , input(\"Student name\") , input(\"sKILLSS\"))"
   ]
  },
  {
   "cell_type": "code",
   "execution_count": null,
   "id": "6ca26a44",
   "metadata": {},
   "outputs": [],
   "source": [
    "S\n"
   ]
  }
 ],
 "metadata": {
  "kernelspec": {
   "display_name": "Python 3 (ipykernel)",
   "language": "python",
   "name": "python3"
  },
  "language_info": {
   "codemirror_mode": {
    "name": "ipython",
    "version": 3
   },
   "file_extension": ".py",
   "mimetype": "text/x-python",
   "name": "python",
   "nbconvert_exporter": "python",
   "pygments_lexer": "ipython3",
   "version": "3.9.13"
  }
 },
 "nbformat": 4,
 "nbformat_minor": 5
}
